{
 "cells": [
  {
   "cell_type": "markdown",
   "metadata": {},
   "source": [
    "# 9 Head poses Model Training\n",
    "\n",
    "Neural Network model for a quick Head Pose estimation, using just facial points as input. The model was made for real-time control of a Pan-Tilt camera using face movements as the control signal. "
   ]
  },
  {
   "cell_type": "markdown",
   "metadata": {},
   "source": [
    "### Load dependencies, set random seed for reproducibility"
   ]
  },
  {
   "cell_type": "code",
   "execution_count": 3,
   "metadata": {},
   "outputs": [
    {
     "name": "stderr",
     "output_type": "stream",
     "text": [
      "Using TensorFlow backend.\n"
     ]
    }
   ],
   "source": [
    "import numpy as np\n",
    "import pandas as pd\n",
    "np.random.seed(14)\n",
    "\n",
    "import keras\n",
    "from keras.models import Sequential\n",
    "from keras.layers import Dense, Flatten\n",
    "from keras.optimizers import SGD\n",
    "\n",
    "from keras.layers import Dropout \n",
    "from keras.layers.normalization import BatchNormalization \n",
    "from keras import regularizers \n",
    "from keras.layers.convolutional import Conv1D\n",
    "\n",
    "from sklearn.model_selection import train_test_split\n",
    "from matplotlib import pyplot as plt"
   ]
  },
  {
   "cell_type": "markdown",
   "metadata": {},
   "source": [
    "### Read and preprocess the dataset"
   ]
  },
  {
   "cell_type": "code",
   "execution_count": 14,
   "metadata": {},
   "outputs": [
    {
     "name": "stdout",
     "output_type": "stream",
     "text": [
      "(9000, 61)\n"
     ]
    }
   ],
   "source": [
    "dfCenter = pd.read_csv('datasets/face_center.csv')\n",
    "dfCenter2 = pd.read_csv('datasets/face_center2.csv')\n",
    "dfCenter = dfCenter.append(dfCenter2, ignore_index = True)\n",
    "\n",
    "dfRight = pd.read_csv('datasets/face_right.csv')\n",
    "dfRight2 = pd.read_csv('datasets/face_right2.csv')\n",
    "dfRight = dfRight.append(dfRight2, ignore_index = True)\n",
    "\n",
    "dfLeft = pd.read_csv('datasets/face_left.csv')\n",
    "dfLeft2 = pd.read_csv('datasets/face_left2.csv')\n",
    "dfLeft = dfLeft.append(dfLeft2, ignore_index = True)\n",
    "\n",
    "dfUp = pd.read_csv('datasets/face_up.csv')\n",
    "dfUp2 = pd.read_csv('datasets/face_up2.csv')\n",
    "dfUp = dfUp.append(dfUp2, ignore_index = True)\n",
    "\n",
    "dfDown = pd.read_csv('datasets/face_down.csv')\n",
    "dfDown2 = pd.read_csv('datasets/face_down2.csv')\n",
    "dfDown = dfDown.append(dfDown2, ignore_index = True)\n",
    "\n",
    "dfUpRight = pd.read_csv('datasets/face_up_right.csv')\n",
    "dfUpRight2 = pd.read_csv('datasets/face_up_right2.csv')\n",
    "dfUpRight = dfUpRight.append(dfUpRight2, ignore_index = True)\n",
    "\n",
    "dfUpLeft = pd.read_csv('datasets/face_up_left.csv')\n",
    "dfUpLeft2 = pd.read_csv('datasets/face_up_left2.csv')\n",
    "dfUpLeft = dfUpLeft.append(dfUpLeft2, ignore_index = True)\n",
    "\n",
    "dfDownRight = pd.read_csv('datasets/face_down_right.csv')\n",
    "dfDownRight2 = pd.read_csv('datasets/face_down_right2.csv')\n",
    "dfDownRight = dfDownRight.append(dfDownRight2, ignore_index = True)\n",
    "\n",
    "dfDownLeft = pd.read_csv('datasets/face_down_left.csv')\n",
    "dfDownLeft2 = pd.read_csv('datasets/face_down_left2.csv')\n",
    "dfDownLeft = dfDownLeft.append(dfDownLeft2, ignore_index = True)\n",
    "\n",
    "columns = list(dfCenter)\n",
    "\n",
    "dfCenter['RESULT'] = 0\n",
    "dfRight['RESULT'] = 1\n",
    "dfLeft['RESULT'] = 2\n",
    "dfUp['RESULT'] = 3\n",
    "dfDown['RESULT'] = 4\n",
    "dfUpRight['RESULT'] = 5\n",
    "dfUpLeft['RESULT'] = 6\n",
    "dfDownRight['RESULT'] = 7\n",
    "dfDownLeft['RESULT'] = 8\n",
    "\n",
    "\n",
    "df = dfCenter.append(dfRight, ignore_index=True).append(dfLeft, ignore_index = True)\n",
    "df = df.append(dfUp, ignore_index = True).append(dfDown, ignore_index = True)\n",
    "df = df.append(dfUpRight, ignore_index = True).append(dfUpLeft, ignore_index = True)\n",
    "df = df.append(dfDownRight, ignore_index = True).append(dfDownLeft, ignore_index = True)\n",
    "\n",
    "\n",
    "print(df.shape)"
   ]
  },
  {
   "cell_type": "code",
   "execution_count": 16,
   "metadata": {},
   "outputs": [
    {
     "data": {
      "text/html": [
       "<div>\n",
       "<style scoped>\n",
       "    .dataframe tbody tr th:only-of-type {\n",
       "        vertical-align: middle;\n",
       "    }\n",
       "\n",
       "    .dataframe tbody tr th {\n",
       "        vertical-align: top;\n",
       "    }\n",
       "\n",
       "    .dataframe thead th {\n",
       "        text-align: right;\n",
       "    }\n",
       "</style>\n",
       "<table border=\"1\" class=\"dataframe\">\n",
       "  <thead>\n",
       "    <tr style=\"text-align: right;\">\n",
       "      <th></th>\n",
       "      <th>0</th>\n",
       "      <th>1</th>\n",
       "      <th>2</th>\n",
       "      <th>3</th>\n",
       "      <th>4</th>\n",
       "      <th>5</th>\n",
       "      <th>6</th>\n",
       "      <th>7</th>\n",
       "      <th>8</th>\n",
       "      <th>9</th>\n",
       "      <th>...</th>\n",
       "      <th>51</th>\n",
       "      <th>52</th>\n",
       "      <th>53</th>\n",
       "      <th>54</th>\n",
       "      <th>55</th>\n",
       "      <th>56</th>\n",
       "      <th>57</th>\n",
       "      <th>58</th>\n",
       "      <th>59</th>\n",
       "      <th>RESULT</th>\n",
       "    </tr>\n",
       "  </thead>\n",
       "  <tbody>\n",
       "    <tr>\n",
       "      <th>0</th>\n",
       "      <td>0.858809</td>\n",
       "      <td>0.781256</td>\n",
       "      <td>0.746218</td>\n",
       "      <td>0.743311</td>\n",
       "      <td>0.764450</td>\n",
       "      <td>0.789241</td>\n",
       "      <td>0.796396</td>\n",
       "      <td>0.832012</td>\n",
       "      <td>0.838224</td>\n",
       "      <td>0.832147</td>\n",
       "      <td>...</td>\n",
       "      <td>0.142489</td>\n",
       "      <td>0.159307</td>\n",
       "      <td>0.263332</td>\n",
       "      <td>0.415602</td>\n",
       "      <td>0.364507</td>\n",
       "      <td>0.341785</td>\n",
       "      <td>0.328761</td>\n",
       "      <td>0.325338</td>\n",
       "      <td>0.340034</td>\n",
       "      <td>0</td>\n",
       "    </tr>\n",
       "    <tr>\n",
       "      <th>1</th>\n",
       "      <td>0.867722</td>\n",
       "      <td>0.780481</td>\n",
       "      <td>0.736402</td>\n",
       "      <td>0.718613</td>\n",
       "      <td>0.719886</td>\n",
       "      <td>0.732531</td>\n",
       "      <td>0.759472</td>\n",
       "      <td>0.798078</td>\n",
       "      <td>0.808493</td>\n",
       "      <td>0.801999</td>\n",
       "      <td>...</td>\n",
       "      <td>0.171308</td>\n",
       "      <td>0.194701</td>\n",
       "      <td>0.297484</td>\n",
       "      <td>0.429089</td>\n",
       "      <td>0.385692</td>\n",
       "      <td>0.368179</td>\n",
       "      <td>0.358008</td>\n",
       "      <td>0.349135</td>\n",
       "      <td>0.348292</td>\n",
       "      <td>0</td>\n",
       "    </tr>\n",
       "    <tr>\n",
       "      <th>2</th>\n",
       "      <td>0.877703</td>\n",
       "      <td>0.797423</td>\n",
       "      <td>0.736385</td>\n",
       "      <td>0.729313</td>\n",
       "      <td>0.735067</td>\n",
       "      <td>0.746128</td>\n",
       "      <td>0.776003</td>\n",
       "      <td>0.811224</td>\n",
       "      <td>0.825969</td>\n",
       "      <td>0.815212</td>\n",
       "      <td>...</td>\n",
       "      <td>0.168584</td>\n",
       "      <td>0.191605</td>\n",
       "      <td>0.289119</td>\n",
       "      <td>0.427896</td>\n",
       "      <td>0.381462</td>\n",
       "      <td>0.367352</td>\n",
       "      <td>0.360646</td>\n",
       "      <td>0.356262</td>\n",
       "      <td>0.358694</td>\n",
       "      <td>0</td>\n",
       "    </tr>\n",
       "    <tr>\n",
       "      <th>3</th>\n",
       "      <td>0.887809</td>\n",
       "      <td>0.795197</td>\n",
       "      <td>0.740729</td>\n",
       "      <td>0.723141</td>\n",
       "      <td>0.726975</td>\n",
       "      <td>0.736697</td>\n",
       "      <td>0.760959</td>\n",
       "      <td>0.805041</td>\n",
       "      <td>0.813587</td>\n",
       "      <td>0.811020</td>\n",
       "      <td>...</td>\n",
       "      <td>0.172387</td>\n",
       "      <td>0.202081</td>\n",
       "      <td>0.293441</td>\n",
       "      <td>0.425851</td>\n",
       "      <td>0.383749</td>\n",
       "      <td>0.367899</td>\n",
       "      <td>0.360264</td>\n",
       "      <td>0.352182</td>\n",
       "      <td>0.353588</td>\n",
       "      <td>0</td>\n",
       "    </tr>\n",
       "    <tr>\n",
       "      <th>4</th>\n",
       "      <td>0.896083</td>\n",
       "      <td>0.795655</td>\n",
       "      <td>0.732237</td>\n",
       "      <td>0.714301</td>\n",
       "      <td>0.714440</td>\n",
       "      <td>0.730608</td>\n",
       "      <td>0.760959</td>\n",
       "      <td>0.807052</td>\n",
       "      <td>0.813546</td>\n",
       "      <td>0.805041</td>\n",
       "      <td>...</td>\n",
       "      <td>0.169873</td>\n",
       "      <td>0.190620</td>\n",
       "      <td>0.287862</td>\n",
       "      <td>0.425851</td>\n",
       "      <td>0.372547</td>\n",
       "      <td>0.365462</td>\n",
       "      <td>0.359436</td>\n",
       "      <td>0.353214</td>\n",
       "      <td>0.346116</td>\n",
       "      <td>0</td>\n",
       "    </tr>\n",
       "  </tbody>\n",
       "</table>\n",
       "<p>5 rows × 61 columns</p>\n",
       "</div>"
      ],
      "text/plain": [
       "          0         1         2         3         4         5         6  \\\n",
       "0  0.858809  0.781256  0.746218  0.743311  0.764450  0.789241  0.796396   \n",
       "1  0.867722  0.780481  0.736402  0.718613  0.719886  0.732531  0.759472   \n",
       "2  0.877703  0.797423  0.736385  0.729313  0.735067  0.746128  0.776003   \n",
       "3  0.887809  0.795197  0.740729  0.723141  0.726975  0.736697  0.760959   \n",
       "4  0.896083  0.795655  0.732237  0.714301  0.714440  0.730608  0.760959   \n",
       "\n",
       "          7         8         9  ...        51        52        53        54  \\\n",
       "0  0.832012  0.838224  0.832147  ...  0.142489  0.159307  0.263332  0.415602   \n",
       "1  0.798078  0.808493  0.801999  ...  0.171308  0.194701  0.297484  0.429089   \n",
       "2  0.811224  0.825969  0.815212  ...  0.168584  0.191605  0.289119  0.427896   \n",
       "3  0.805041  0.813587  0.811020  ...  0.172387  0.202081  0.293441  0.425851   \n",
       "4  0.807052  0.813546  0.805041  ...  0.169873  0.190620  0.287862  0.425851   \n",
       "\n",
       "         55        56        57        58        59  RESULT  \n",
       "0  0.364507  0.341785  0.328761  0.325338  0.340034       0  \n",
       "1  0.385692  0.368179  0.358008  0.349135  0.348292       0  \n",
       "2  0.381462  0.367352  0.360646  0.356262  0.358694       0  \n",
       "3  0.383749  0.367899  0.360264  0.352182  0.353588       0  \n",
       "4  0.372547  0.365462  0.359436  0.353214  0.346116       0  \n",
       "\n",
       "[5 rows x 61 columns]"
      ]
     },
     "execution_count": 16,
     "metadata": {},
     "output_type": "execute_result"
    }
   ],
   "source": [
    "df.head()"
   ]
  },
  {
   "cell_type": "markdown",
   "metadata": {},
   "source": [
    "### Define input data and desired output, and then split training and test observations"
   ]
  },
  {
   "cell_type": "code",
   "execution_count": 17,
   "metadata": {},
   "outputs": [
    {
     "name": "stdout",
     "output_type": "stream",
     "text": [
      "[[0. 1. 0. 0. 0. 0. 0. 0. 0.]\n",
      " [0. 0. 0. 0. 0. 0. 1. 0. 0.]\n",
      " [0. 0. 1. 0. 0. 0. 0. 0. 0.]\n",
      " [0. 0. 0. 1. 0. 0. 0. 0. 0.]\n",
      " [0. 0. 0. 0. 0. 0. 0. 1. 0.]]\n"
     ]
    }
   ],
   "source": [
    "X = df[columns]\n",
    "y = df['RESULT']\n",
    "\n",
    "X_train, X_test, y_train, y_test = train_test_split(X, y, test_size = .2, random_state=14)\n",
    "\n",
    "X_train = np.array(X_train).astype('float32')\n",
    "X_test = np.array(X_test).astype('float32')\n",
    "\n",
    "n_classes = 9\n",
    "y_train = keras.utils.to_categorical(y_train, n_classes)\n",
    "y_test = keras.utils.to_categorical(y_test, n_classes)\n",
    "\n",
    "print (y_test[:5])"
   ]
  },
  {
   "cell_type": "markdown",
   "metadata": {},
   "source": [
    "### Define Neural Network architecture"
   ]
  },
  {
   "cell_type": "code",
   "execution_count": 24,
   "metadata": {},
   "outputs": [],
   "source": [
    "model = Sequential()\n",
    "\n",
    "# model.add(Conv1D(64, kernel_size = 3, activation='relu', input_shape=(60,1)))\n",
    "# model.add(Flatten())\n",
    "model.add(Dense(128, activation='relu', input_shape=(60,)))\n",
    "model.add(BatchNormalization())\n",
    "\n",
    "model.add(Dense(256, activation='relu'))\n",
    "model.add(BatchNormalization())\n",
    "model.add(Dropout(0.5))\n",
    "\n",
    "model.add(Dense(128, activation='relu'))\n",
    "model.add(Dropout(0.5))\n",
    "\n",
    "model.add(Dense(9, activation='softmax'))"
   ]
  },
  {
   "cell_type": "code",
   "execution_count": 8,
   "metadata": {},
   "outputs": [
    {
     "name": "stdout",
     "output_type": "stream",
     "text": [
      "_________________________________________________________________\n",
      "Layer (type)                 Output Shape              Param #   \n",
      "=================================================================\n",
      "dense_1 (Dense)              (None, 128)               7808      \n",
      "_________________________________________________________________\n",
      "batch_normalization_1 (Batch (None, 128)               512       \n",
      "_________________________________________________________________\n",
      "dense_2 (Dense)              (None, 256)               33024     \n",
      "_________________________________________________________________\n",
      "batch_normalization_2 (Batch (None, 256)               1024      \n",
      "_________________________________________________________________\n",
      "dropout_1 (Dropout)          (None, 256)               0         \n",
      "_________________________________________________________________\n",
      "dense_3 (Dense)              (None, 128)               32896     \n",
      "_________________________________________________________________\n",
      "dropout_2 (Dropout)          (None, 128)               0         \n",
      "_________________________________________________________________\n",
      "dense_4 (Dense)              (None, 9)                 1161      \n",
      "=================================================================\n",
      "Total params: 76,425\n",
      "Trainable params: 75,657\n",
      "Non-trainable params: 768\n",
      "_________________________________________________________________\n"
     ]
    }
   ],
   "source": [
    "model.summary()"
   ]
  },
  {
   "cell_type": "markdown",
   "metadata": {},
   "source": [
    "### Configure the model"
   ]
  },
  {
   "cell_type": "code",
   "execution_count": 25,
   "metadata": {},
   "outputs": [],
   "source": [
    "model.compile(loss='categorical_crossentropy', optimizer=SGD(lr=0.00125), metrics=['accuracy'])"
   ]
  },
  {
   "cell_type": "markdown",
   "metadata": {},
   "source": [
    "### Train the model"
   ]
  },
  {
   "cell_type": "code",
   "execution_count": 26,
   "metadata": {},
   "outputs": [
    {
     "name": "stdout",
     "output_type": "stream",
     "text": [
      "Train on 7200 samples, validate on 1800 samples\n",
      "Epoch 1/70\n",
      "7200/7200 [==============================] - 7s 947us/step - loss: 1.6205 - acc: 0.4879 - val_loss: 0.3314 - val_acc: 0.9344\n",
      "Epoch 2/70\n",
      "7200/7200 [==============================] - 3s 382us/step - loss: 0.7989 - acc: 0.7417 - val_loss: 0.2597 - val_acc: 0.9039\n",
      "Epoch 3/70\n",
      "7200/7200 [==============================] - 3s 375us/step - loss: 0.6036 - acc: 0.8122 - val_loss: 0.2084 - val_acc: 0.9389\n",
      "Epoch 4/70\n",
      "7200/7200 [==============================] - 3s 379us/step - loss: 0.5054 - acc: 0.8436 - val_loss: 0.1862 - val_acc: 0.9472\n",
      "Epoch 5/70\n",
      "7200/7200 [==============================] - 3s 378us/step - loss: 0.4515 - acc: 0.8653 - val_loss: 0.1691 - val_acc: 0.9561\n",
      "Epoch 6/70\n",
      "7200/7200 [==============================] - 3s 379us/step - loss: 0.3969 - acc: 0.8822 - val_loss: 0.1678 - val_acc: 0.9550\n",
      "Epoch 7/70\n",
      "7200/7200 [==============================] - 3s 382us/step - loss: 0.3750 - acc: 0.8889 - val_loss: 0.1673 - val_acc: 0.9550\n",
      "Epoch 8/70\n",
      "7200/7200 [==============================] - 3s 382us/step - loss: 0.3604 - acc: 0.8968 - val_loss: 0.1481 - val_acc: 0.9611\n",
      "Epoch 9/70\n",
      "7200/7200 [==============================] - 3s 381us/step - loss: 0.3348 - acc: 0.9029 - val_loss: 0.1356 - val_acc: 0.9667\n",
      "Epoch 10/70\n",
      "7200/7200 [==============================] - 3s 378us/step - loss: 0.3174 - acc: 0.9087 - val_loss: 0.1335 - val_acc: 0.9667\n",
      "Epoch 11/70\n",
      "7200/7200 [==============================] - 3s 380us/step - loss: 0.2931 - acc: 0.9172 - val_loss: 0.1225 - val_acc: 0.9700\n",
      "Epoch 12/70\n",
      "7200/7200 [==============================] - 3s 469us/step - loss: 0.2897 - acc: 0.9193 - val_loss: 0.1313 - val_acc: 0.9672\n",
      "Epoch 13/70\n",
      "7200/7200 [==============================] - 3s 424us/step - loss: 0.2761 - acc: 0.9235 - val_loss: 0.1243 - val_acc: 0.9667\n",
      "Epoch 14/70\n",
      "7200/7200 [==============================] - 3s 382us/step - loss: 0.2457 - acc: 0.9315 - val_loss: 0.1120 - val_acc: 0.9733\n",
      "Epoch 15/70\n",
      "7200/7200 [==============================] - 3s 384us/step - loss: 0.2457 - acc: 0.9321 - val_loss: 0.1126 - val_acc: 0.9700\n",
      "Epoch 16/70\n",
      "7200/7200 [==============================] - 3s 456us/step - loss: 0.2482 - acc: 0.9332 - val_loss: 0.1126 - val_acc: 0.9700\n",
      "Epoch 17/70\n",
      "7200/7200 [==============================] - 3s 393us/step - loss: 0.2348 - acc: 0.9346 - val_loss: 0.1089 - val_acc: 0.9717\n",
      "Epoch 18/70\n",
      "7200/7200 [==============================] - 3s 429us/step - loss: 0.2233 - acc: 0.9369 - val_loss: 0.1091 - val_acc: 0.9700\n",
      "Epoch 19/70\n",
      "7200/7200 [==============================] - 3s 446us/step - loss: 0.2207 - acc: 0.9375 - val_loss: 0.1174 - val_acc: 0.9667\n",
      "Epoch 20/70\n",
      "7200/7200 [==============================] - 3s 391us/step - loss: 0.2113 - acc: 0.9382 - val_loss: 0.1011 - val_acc: 0.9722\n",
      "Epoch 21/70\n",
      "7200/7200 [==============================] - 3s 408us/step - loss: 0.2120 - acc: 0.9410 - val_loss: 0.0963 - val_acc: 0.9744\n",
      "Epoch 22/70\n",
      "7200/7200 [==============================] - 3s 383us/step - loss: 0.2091 - acc: 0.9418 - val_loss: 0.1271 - val_acc: 0.9633\n",
      "Epoch 23/70\n",
      "7200/7200 [==============================] - 3s 414us/step - loss: 0.2139 - acc: 0.9386 - val_loss: 0.1038 - val_acc: 0.9728\n",
      "Epoch 24/70\n",
      "7200/7200 [==============================] - 3s 404us/step - loss: 0.2026 - acc: 0.9444 - val_loss: 0.1045 - val_acc: 0.9689\n",
      "Epoch 25/70\n",
      "7200/7200 [==============================] - 3s 395us/step - loss: 0.1945 - acc: 0.9440 - val_loss: 0.0950 - val_acc: 0.9711\n",
      "Epoch 26/70\n",
      "7200/7200 [==============================] - 3s 419us/step - loss: 0.1884 - acc: 0.9468 - val_loss: 0.1020 - val_acc: 0.9722\n",
      "Epoch 27/70\n",
      "7200/7200 [==============================] - 3s 388us/step - loss: 0.1920 - acc: 0.9494 - val_loss: 0.0917 - val_acc: 0.9733\n",
      "Epoch 28/70\n",
      "7200/7200 [==============================] - 3s 405us/step - loss: 0.1936 - acc: 0.9464 - val_loss: 0.0910 - val_acc: 0.9722\n",
      "Epoch 29/70\n",
      "7200/7200 [==============================] - 4s 572us/step - loss: 0.1711 - acc: 0.9535 - val_loss: 0.0883 - val_acc: 0.9733\n",
      "Epoch 30/70\n",
      "7200/7200 [==============================] - 3s 391us/step - loss: 0.1760 - acc: 0.9501 - val_loss: 0.0823 - val_acc: 0.9750\n",
      "Epoch 31/70\n",
      "7200/7200 [==============================] - 3s 383us/step - loss: 0.1826 - acc: 0.9551 - val_loss: 0.1105 - val_acc: 0.9656\n",
      "Epoch 32/70\n",
      "7200/7200 [==============================] - 3s 423us/step - loss: 0.1725 - acc: 0.9519 - val_loss: 0.0798 - val_acc: 0.9761\n",
      "Epoch 33/70\n",
      "7200/7200 [==============================] - 3s 393us/step - loss: 0.1762 - acc: 0.9531 - val_loss: 0.0873 - val_acc: 0.9717\n",
      "Epoch 34/70\n",
      "7200/7200 [==============================] - 3s 387us/step - loss: 0.1586 - acc: 0.9571 - val_loss: 0.0848 - val_acc: 0.9744\n",
      "Epoch 35/70\n",
      "7200/7200 [==============================] - 3s 394us/step - loss: 0.1612 - acc: 0.9540 - val_loss: 0.0854 - val_acc: 0.9739\n",
      "Epoch 36/70\n",
      "7200/7200 [==============================] - 3s 446us/step - loss: 0.1538 - acc: 0.9578 - val_loss: 0.0760 - val_acc: 0.9744\n",
      "Epoch 37/70\n",
      "7200/7200 [==============================] - 3s 430us/step - loss: 0.1611 - acc: 0.9547 - val_loss: 0.0775 - val_acc: 0.9761\n",
      "Epoch 38/70\n",
      "7200/7200 [==============================] - 3s 464us/step - loss: 0.1572 - acc: 0.9536 - val_loss: 0.0744 - val_acc: 0.9783\n",
      "Epoch 39/70\n",
      "7200/7200 [==============================] - 3s 435us/step - loss: 0.1497 - acc: 0.9579 - val_loss: 0.0690 - val_acc: 0.9767\n",
      "Epoch 40/70\n",
      "7200/7200 [==============================] - 3s 356us/step - loss: 0.1588 - acc: 0.9547 - val_loss: 0.0848 - val_acc: 0.9739\n",
      "Epoch 41/70\n",
      "7200/7200 [==============================] - 3s 366us/step - loss: 0.1523 - acc: 0.9567 - val_loss: 0.0721 - val_acc: 0.9767\n",
      "Epoch 42/70\n",
      "7200/7200 [==============================] - 3s 355us/step - loss: 0.1551 - acc: 0.9571 - val_loss: 0.0718 - val_acc: 0.9778\n",
      "Epoch 43/70\n",
      "7200/7200 [==============================] - 3s 372us/step - loss: 0.1635 - acc: 0.9529 - val_loss: 0.0880 - val_acc: 0.9683\n",
      "Epoch 44/70\n",
      "7200/7200 [==============================] - 3s 364us/step - loss: 0.1609 - acc: 0.9540 - val_loss: 0.0716 - val_acc: 0.9789\n",
      "Epoch 45/70\n",
      "7200/7200 [==============================] - 3s 402us/step - loss: 0.1414 - acc: 0.9599 - val_loss: 0.0727 - val_acc: 0.9778\n",
      "Epoch 46/70\n",
      "7200/7200 [==============================] - 3s 422us/step - loss: 0.1424 - acc: 0.9587 - val_loss: 0.0726 - val_acc: 0.9756\n",
      "Epoch 47/70\n",
      "7200/7200 [==============================] - 4s 512us/step - loss: 0.1487 - acc: 0.9569 - val_loss: 0.0787 - val_acc: 0.9744\n",
      "Epoch 48/70\n",
      "7200/7200 [==============================] - 3s 447us/step - loss: 0.1406 - acc: 0.9601 - val_loss: 0.0631 - val_acc: 0.9794\n",
      "Epoch 49/70\n",
      "7200/7200 [==============================] - 3s 404us/step - loss: 0.1430 - acc: 0.9589 - val_loss: 0.0681 - val_acc: 0.9783\n",
      "Epoch 50/70\n",
      "7200/7200 [==============================] - 3s 407us/step - loss: 0.1344 - acc: 0.9608 - val_loss: 0.0700 - val_acc: 0.9767\n",
      "Epoch 51/70\n",
      "7200/7200 [==============================] - 3s 432us/step - loss: 0.1343 - acc: 0.9597 - val_loss: 0.0669 - val_acc: 0.9789\n",
      "Epoch 52/70\n",
      "7200/7200 [==============================] - 3s 440us/step - loss: 0.1247 - acc: 0.9619 - val_loss: 0.0700 - val_acc: 0.9789\n",
      "Epoch 53/70\n",
      "7200/7200 [==============================] - 3s 418us/step - loss: 0.1316 - acc: 0.9600 - val_loss: 0.0611 - val_acc: 0.9800\n",
      "Epoch 54/70\n",
      "7200/7200 [==============================] - 3s 356us/step - loss: 0.1294 - acc: 0.9617 - val_loss: 0.0810 - val_acc: 0.9739\n",
      "Epoch 55/70\n",
      "7200/7200 [==============================] - 3s 353us/step - loss: 0.1305 - acc: 0.9619 - val_loss: 0.0619 - val_acc: 0.9789\n",
      "Epoch 56/70\n",
      "7200/7200 [==============================] - 3s 355us/step - loss: 0.1313 - acc: 0.9647 - val_loss: 0.0694 - val_acc: 0.9772\n",
      "Epoch 57/70\n",
      "7200/7200 [==============================] - 3s 360us/step - loss: 0.1371 - acc: 0.9599 - val_loss: 0.0630 - val_acc: 0.9772\n",
      "Epoch 58/70\n",
      "7200/7200 [==============================] - 3s 349us/step - loss: 0.1181 - acc: 0.9643 - val_loss: 0.0697 - val_acc: 0.9761\n",
      "Epoch 59/70\n",
      "7200/7200 [==============================] - 3s 373us/step - loss: 0.1248 - acc: 0.9646 - val_loss: 0.0589 - val_acc: 0.9778\n",
      "Epoch 60/70\n"
     ]
    },
    {
     "name": "stdout",
     "output_type": "stream",
     "text": [
      "7200/7200 [==============================] - 3s 351us/step - loss: 0.1218 - acc: 0.9664 - val_loss: 0.0590 - val_acc: 0.9817\n",
      "Epoch 61/70\n",
      "7200/7200 [==============================] - 3s 350us/step - loss: 0.1156 - acc: 0.9661 - val_loss: 0.0558 - val_acc: 0.9817\n",
      "Epoch 62/70\n",
      "7200/7200 [==============================] - 3s 348us/step - loss: 0.1327 - acc: 0.9632 - val_loss: 0.0645 - val_acc: 0.9833\n",
      "Epoch 63/70\n",
      "7200/7200 [==============================] - 3s 350us/step - loss: 0.1173 - acc: 0.9653 - val_loss: 0.0635 - val_acc: 0.9778\n",
      "Epoch 64/70\n",
      "7200/7200 [==============================] - 3s 349us/step - loss: 0.1184 - acc: 0.9639 - val_loss: 0.0508 - val_acc: 0.9828\n",
      "Epoch 65/70\n",
      "7200/7200 [==============================] - 3s 350us/step - loss: 0.1058 - acc: 0.9690 - val_loss: 0.0603 - val_acc: 0.9772\n",
      "Epoch 66/70\n",
      "7200/7200 [==============================] - 3s 349us/step - loss: 0.1109 - acc: 0.9674 - val_loss: 0.0833 - val_acc: 0.9722\n",
      "Epoch 67/70\n",
      "7200/7200 [==============================] - 3s 359us/step - loss: 0.1101 - acc: 0.9671 - val_loss: 0.0519 - val_acc: 0.9844\n",
      "Epoch 68/70\n",
      "7200/7200 [==============================] - 3s 356us/step - loss: 0.1151 - acc: 0.9690 - val_loss: 0.0541 - val_acc: 0.9822\n",
      "Epoch 69/70\n",
      "7200/7200 [==============================] - 3s 369us/step - loss: 0.1013 - acc: 0.9708 - val_loss: 0.0572 - val_acc: 0.9822\n",
      "Epoch 70/70\n",
      "7200/7200 [==============================] - 3s 353us/step - loss: 0.1146 - acc: 0.9674 - val_loss: 0.0543 - val_acc: 0.9800\n"
     ]
    },
    {
     "data": {
      "image/png": "[encoded data removed]",
      "text/plain": [
       "<Figure size 432x288 with 1 Axes>"
      ]
     },
     "metadata": {
      "needs_background": "light"
     },
     "output_type": "display_data"
    },
    {
     "name": "stdout",
     "output_type": "stream",
     "text": [
      "Test loss: 0.0543\n",
      "Test accuracy: 0.98\n"
     ]
    }
   ],
   "source": [
    "# model.fit(X_train, y_train, batch_size=32, epochs=100, verbose=1, validation_data=(X_test, y_test))\n",
    "\n",
    "history = model.fit(X_train, y_train, batch_size=32, epochs=70, verbose=1, validation_data=(X_test, y_test))\n",
    "\n",
    "loss, accuracy  = model.evaluate(X_test, y_test, verbose=False)\n",
    "\n",
    "plt.plot(history.history['acc'])\n",
    "plt.plot(history.history['val_acc'])\n",
    "plt.title('model accuracy')\n",
    "plt.ylabel('accuracy')\n",
    "plt.xlabel('epoch')\n",
    "plt.legend(['training', 'validation'], loc='best')\n",
    "plt.show()\n",
    "\n",
    "print(f'Test loss: {loss:.3}')\n",
    "print(f'Test accuracy: {accuracy:.3}')\n"
   ]
  },
  {
   "cell_type": "markdown",
   "metadata": {},
   "source": [
    "### Saving the model"
   ]
  },
  {
   "cell_type": "code",
   "execution_count": 14,
   "metadata": {
    "collapsed": true
   },
   "outputs": [],
   "source": [
    "model.save('model/model_9_positions.h5')"
   ]
  },
  {
   "cell_type": "code",
   "execution_count": null,
   "metadata": {
    "collapsed": true
   },
   "outputs": [],
   "source": []
  }
 ],
 "metadata": {
  "kernelspec": {
   "display_name": "Python 3",
   "language": "python",
   "name": "python3"
  },
  "language_info": {
   "codemirror_mode": {
    "name": "ipython",
    "version": 3
   },
   "file_extension": ".py",
   "mimetype": "text/x-python",
   "name": "python",
   "nbconvert_exporter": "python",
   "pygments_lexer": "ipython3",
   "version": "3.6.8"
  }
 },
 "nbformat": 4,
 "nbformat_minor": 1
}
