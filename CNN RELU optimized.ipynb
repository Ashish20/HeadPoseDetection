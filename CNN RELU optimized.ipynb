{
 "cells": [
  {
   "cell_type": "markdown",
   "metadata": {},
   "source": [
    "### Import dependencies"
   ]
  },
  {
   "cell_type": "code",
   "execution_count": 2,
   "metadata": {},
   "outputs": [
    {
     "name": "stderr",
     "output_type": "stream",
     "text": [
      "Using TensorFlow backend.\n"
     ]
    }
   ],
   "source": [
    "import numpy as np\n",
    "import pandas as pd\n",
    "np.random.seed(14)\n",
    "\n",
    "import keras\n",
    "from keras.models import Sequential\n",
    "from keras.layers import Dense, Flatten\n",
    "from keras.optimizers import SGD\n",
    "\n",
    "from keras.layers import Dropout, Activation, Conv2D, MaxPooling2D, MaxPooling1D, GlobalAveragePooling1D\n",
    "from keras.layers.normalization import BatchNormalization \n",
    "from keras import regularizers \n",
    "from keras.layers.convolutional import Conv1D\n",
    "\n",
    "from sklearn.model_selection import train_test_split\n",
    "from matplotlib import pyplot as plt\n",
    "from numpy import array"
   ]
  },
  {
   "cell_type": "markdown",
   "metadata": {},
   "source": [
    "### Read and preprocess the dataset"
   ]
  },
  {
   "cell_type": "code",
   "execution_count": 4,
   "metadata": {},
   "outputs": [
    {
     "name": "stdout",
     "output_type": "stream",
     "text": [
      "(9000, 61)\n"
     ]
    }
   ],
   "source": [
    "dfCenter = pd.read_csv('datasets/face_center.csv')\n",
    "dfCenter2 = pd.read_csv('datasets/face_center2.csv')\n",
    "dfCenter = dfCenter.append(dfCenter2, ignore_index = True)\n",
    "\n",
    "dfRight = pd.read_csv('datasets/face_right.csv')\n",
    "dfRight2 = pd.read_csv('datasets/face_right2.csv')\n",
    "dfRight = dfRight.append(dfRight2, ignore_index = True)\n",
    "\n",
    "dfLeft = pd.read_csv('datasets/face_left.csv')\n",
    "dfLeft2 = pd.read_csv('datasets/face_left2.csv')\n",
    "dfLeft = dfLeft.append(dfLeft2, ignore_index = True)\n",
    "\n",
    "dfUp = pd.read_csv('datasets/face_up.csv')\n",
    "dfUp2 = pd.read_csv('datasets/face_up2.csv')\n",
    "dfUp = dfUp.append(dfUp2, ignore_index = True)\n",
    "\n",
    "dfDown = pd.read_csv('datasets/face_down.csv')\n",
    "dfDown2 = pd.read_csv('datasets/face_down2.csv')\n",
    "dfDown = dfDown.append(dfDown2, ignore_index = True)\n",
    "\n",
    "dfUpRight = pd.read_csv('datasets/face_up_right.csv')\n",
    "dfUpRight2 = pd.read_csv('datasets/face_up_right2.csv')\n",
    "dfUpRight = dfUpRight.append(dfUpRight2, ignore_index = True)\n",
    "\n",
    "dfUpLeft = pd.read_csv('datasets/face_up_left.csv')\n",
    "dfUpLeft2 = pd.read_csv('datasets/face_up_left2.csv')\n",
    "dfUpLeft = dfUpLeft.append(dfUpLeft2, ignore_index = True)\n",
    "\n",
    "dfDownRight = pd.read_csv('datasets/face_down_right.csv')\n",
    "dfDownRight2 = pd.read_csv('datasets/face_down_right2.csv')\n",
    "dfDownRight = dfDownRight.append(dfDownRight2, ignore_index = True)\n",
    "\n",
    "dfDownLeft = pd.read_csv('datasets/face_down_left.csv')\n",
    "dfDownLeft2 = pd.read_csv('datasets/face_down_left2.csv')\n",
    "dfDownLeft = dfDownLeft.append(dfDownLeft2, ignore_index = True)\n",
    "\n",
    "columns = list(dfCenter)\n",
    "\n",
    "dfCenter['RESULT'] = 0\n",
    "dfRight['RESULT'] = 1\n",
    "dfLeft['RESULT'] = 2\n",
    "dfUp['RESULT'] = 3\n",
    "dfDown['RESULT'] = 4\n",
    "dfUpRight['RESULT'] = 5\n",
    "dfUpLeft['RESULT'] = 6\n",
    "dfDownRight['RESULT'] = 7\n",
    "dfDownLeft['RESULT'] = 8\n",
    "\n",
    "\n",
    "df = dfCenter.append(dfRight, ignore_index=True).append(dfLeft, ignore_index = True)\n",
    "df = df.append(dfUp, ignore_index = True).append(dfDown, ignore_index = True)\n",
    "df = df.append(dfUpRight, ignore_index = True).append(dfUpLeft, ignore_index = True)\n",
    "df = df.append(dfDownRight, ignore_index = True).append(dfDownLeft, ignore_index = True)\n",
    "\n",
    "\n",
    "print(df.shape)"
   ]
  },
  {
   "cell_type": "code",
   "execution_count": 5,
   "metadata": {},
   "outputs": [
    {
     "data": {
      "text/html": [
       "<div>\n",
       "<style scoped>\n",
       "    .dataframe tbody tr th:only-of-type {\n",
       "        vertical-align: middle;\n",
       "    }\n",
       "\n",
       "    .dataframe tbody tr th {\n",
       "        vertical-align: top;\n",
       "    }\n",
       "\n",
       "    .dataframe thead th {\n",
       "        text-align: right;\n",
       "    }\n",
       "</style>\n",
       "<table border=\"1\" class=\"dataframe\">\n",
       "  <thead>\n",
       "    <tr style=\"text-align: right;\">\n",
       "      <th></th>\n",
       "      <th>0</th>\n",
       "      <th>1</th>\n",
       "      <th>2</th>\n",
       "      <th>3</th>\n",
       "      <th>4</th>\n",
       "      <th>5</th>\n",
       "      <th>6</th>\n",
       "      <th>7</th>\n",
       "      <th>8</th>\n",
       "      <th>9</th>\n",
       "      <th>...</th>\n",
       "      <th>51</th>\n",
       "      <th>52</th>\n",
       "      <th>53</th>\n",
       "      <th>54</th>\n",
       "      <th>55</th>\n",
       "      <th>56</th>\n",
       "      <th>57</th>\n",
       "      <th>58</th>\n",
       "      <th>59</th>\n",
       "      <th>RESULT</th>\n",
       "    </tr>\n",
       "  </thead>\n",
       "  <tbody>\n",
       "    <tr>\n",
       "      <th>8995</th>\n",
       "      <td>1.0</td>\n",
       "      <td>0.870639</td>\n",
       "      <td>0.778903</td>\n",
       "      <td>0.725278</td>\n",
       "      <td>0.680233</td>\n",
       "      <td>0.661416</td>\n",
       "      <td>0.679687</td>\n",
       "      <td>0.725736</td>\n",
       "      <td>0.733129</td>\n",
       "      <td>0.697956</td>\n",
       "      <td>...</td>\n",
       "      <td>0.440451</td>\n",
       "      <td>0.461847</td>\n",
       "      <td>0.483469</td>\n",
       "      <td>0.492717</td>\n",
       "      <td>0.535039</td>\n",
       "      <td>0.545349</td>\n",
       "      <td>0.529865</td>\n",
       "      <td>0.501872</td>\n",
       "      <td>0.437781</td>\n",
       "      <td>8</td>\n",
       "    </tr>\n",
       "    <tr>\n",
       "      <th>8996</th>\n",
       "      <td>1.0</td>\n",
       "      <td>0.873671</td>\n",
       "      <td>0.781486</td>\n",
       "      <td>0.735074</td>\n",
       "      <td>0.683443</td>\n",
       "      <td>0.655249</td>\n",
       "      <td>0.673143</td>\n",
       "      <td>0.724177</td>\n",
       "      <td>0.729398</td>\n",
       "      <td>0.696364</td>\n",
       "      <td>...</td>\n",
       "      <td>0.465730</td>\n",
       "      <td>0.481957</td>\n",
       "      <td>0.495796</td>\n",
       "      <td>0.492139</td>\n",
       "      <td>0.528186</td>\n",
       "      <td>0.541326</td>\n",
       "      <td>0.529552</td>\n",
       "      <td>0.497978</td>\n",
       "      <td>0.431634</td>\n",
       "      <td>8</td>\n",
       "    </tr>\n",
       "    <tr>\n",
       "      <th>8997</th>\n",
       "      <td>1.0</td>\n",
       "      <td>0.877431</td>\n",
       "      <td>0.790890</td>\n",
       "      <td>0.744683</td>\n",
       "      <td>0.692465</td>\n",
       "      <td>0.664408</td>\n",
       "      <td>0.677805</td>\n",
       "      <td>0.718668</td>\n",
       "      <td>0.727266</td>\n",
       "      <td>0.696576</td>\n",
       "      <td>...</td>\n",
       "      <td>0.448371</td>\n",
       "      <td>0.470152</td>\n",
       "      <td>0.488073</td>\n",
       "      <td>0.494257</td>\n",
       "      <td>0.521760</td>\n",
       "      <td>0.529427</td>\n",
       "      <td>0.515435</td>\n",
       "      <td>0.493970</td>\n",
       "      <td>0.433165</td>\n",
       "      <td>8</td>\n",
       "    </tr>\n",
       "    <tr>\n",
       "      <th>8998</th>\n",
       "      <td>1.0</td>\n",
       "      <td>0.881703</td>\n",
       "      <td>0.792698</td>\n",
       "      <td>0.741344</td>\n",
       "      <td>0.697454</td>\n",
       "      <td>0.673473</td>\n",
       "      <td>0.686590</td>\n",
       "      <td>0.721158</td>\n",
       "      <td>0.718938</td>\n",
       "      <td>0.687107</td>\n",
       "      <td>...</td>\n",
       "      <td>0.426923</td>\n",
       "      <td>0.447417</td>\n",
       "      <td>0.465064</td>\n",
       "      <td>0.479192</td>\n",
       "      <td>0.519957</td>\n",
       "      <td>0.540319</td>\n",
       "      <td>0.528465</td>\n",
       "      <td>0.506383</td>\n",
       "      <td>0.439765</td>\n",
       "      <td>8</td>\n",
       "    </tr>\n",
       "    <tr>\n",
       "      <th>8999</th>\n",
       "      <td>1.0</td>\n",
       "      <td>0.881703</td>\n",
       "      <td>0.794662</td>\n",
       "      <td>0.747706</td>\n",
       "      <td>0.701630</td>\n",
       "      <td>0.679918</td>\n",
       "      <td>0.693795</td>\n",
       "      <td>0.731132</td>\n",
       "      <td>0.732642</td>\n",
       "      <td>0.692457</td>\n",
       "      <td>...</td>\n",
       "      <td>0.448210</td>\n",
       "      <td>0.467434</td>\n",
       "      <td>0.485004</td>\n",
       "      <td>0.482802</td>\n",
       "      <td>0.528204</td>\n",
       "      <td>0.543669</td>\n",
       "      <td>0.532557</td>\n",
       "      <td>0.512542</td>\n",
       "      <td>0.446091</td>\n",
       "      <td>8</td>\n",
       "    </tr>\n",
       "  </tbody>\n",
       "</table>\n",
       "<p>5 rows × 61 columns</p>\n",
       "</div>"
      ],
      "text/plain": [
       "        0         1         2         3         4         5         6  \\\n",
       "8995  1.0  0.870639  0.778903  0.725278  0.680233  0.661416  0.679687   \n",
       "8996  1.0  0.873671  0.781486  0.735074  0.683443  0.655249  0.673143   \n",
       "8997  1.0  0.877431  0.790890  0.744683  0.692465  0.664408  0.677805   \n",
       "8998  1.0  0.881703  0.792698  0.741344  0.697454  0.673473  0.686590   \n",
       "8999  1.0  0.881703  0.794662  0.747706  0.701630  0.679918  0.693795   \n",
       "\n",
       "             7         8         9  ...        51        52        53  \\\n",
       "8995  0.725736  0.733129  0.697956  ...  0.440451  0.461847  0.483469   \n",
       "8996  0.724177  0.729398  0.696364  ...  0.465730  0.481957  0.495796   \n",
       "8997  0.718668  0.727266  0.696576  ...  0.448371  0.470152  0.488073   \n",
       "8998  0.721158  0.718938  0.687107  ...  0.426923  0.447417  0.465064   \n",
       "8999  0.731132  0.732642  0.692457  ...  0.448210  0.467434  0.485004   \n",
       "\n",
       "            54        55        56        57        58        59  RESULT  \n",
       "8995  0.492717  0.535039  0.545349  0.529865  0.501872  0.437781       8  \n",
       "8996  0.492139  0.528186  0.541326  0.529552  0.497978  0.431634       8  \n",
       "8997  0.494257  0.521760  0.529427  0.515435  0.493970  0.433165       8  \n",
       "8998  0.479192  0.519957  0.540319  0.528465  0.506383  0.439765       8  \n",
       "8999  0.482802  0.528204  0.543669  0.532557  0.512542  0.446091       8  \n",
       "\n",
       "[5 rows x 61 columns]"
      ]
     },
     "execution_count": 5,
     "metadata": {},
     "output_type": "execute_result"
    }
   ],
   "source": [
    "df.tail()"
   ]
  },
  {
   "cell_type": "code",
   "execution_count": 6,
   "metadata": {},
   "outputs": [],
   "source": [
    "np_arr = df.values"
   ]
  },
  {
   "cell_type": "code",
   "execution_count": 7,
   "metadata": {},
   "outputs": [
    {
     "data": {
      "text/plain": [
       "(9000, 61)"
      ]
     },
     "execution_count": 7,
     "metadata": {},
     "output_type": "execute_result"
    }
   ],
   "source": [
    "np_arr.shape"
   ]
  },
  {
   "cell_type": "markdown",
   "metadata": {},
   "source": [
    "### Define input data and desired output, and then split training and test observations"
   ]
  },
  {
   "cell_type": "code",
   "execution_count": 8,
   "metadata": {
    "scrolled": true
   },
   "outputs": [
    {
     "name": "stdout",
     "output_type": "stream",
     "text": [
      "[[0. 1. 0. 0. 0. 0. 0. 0. 0.]\n",
      " [0. 0. 0. 0. 0. 0. 1. 0. 0.]\n",
      " [0. 0. 1. 0. 0. 0. 0. 0. 0.]\n",
      " [0. 0. 0. 1. 0. 0. 0. 0. 0.]\n",
      " [0. 0. 0. 0. 0. 0. 0. 1. 0.]]\n"
     ]
    }
   ],
   "source": [
    "X = df[columns]\n",
    "y = df['RESULT']\n",
    "\n",
    "X_train, X_test, y_train, y_test = train_test_split(X, y, test_size = .2, random_state=14)\n",
    "\n",
    "c = np.array(X_train).astype('float32')\n",
    "X_test = np.array(X_test).astype('float32')\n",
    "\n",
    "n_classes = 9\n",
    "#one hot encoding\n",
    "y_train = keras.utils.to_categorical(y_train, n_classes)\n",
    "y_test = keras.utils.to_categorical(y_test, n_classes)\n",
    "\n",
    "print (y_test[:5])"
   ]
  },
  {
   "cell_type": "code",
   "execution_count": 9,
   "metadata": {},
   "outputs": [],
   "source": [
    "X_train_np = X_train.values \n",
    "Y_train_np = y_train"
   ]
  },
  {
   "cell_type": "code",
   "execution_count": 10,
   "metadata": {},
   "outputs": [
    {
     "data": {
      "text/plain": [
       "7200"
      ]
     },
     "execution_count": 10,
     "metadata": {},
     "output_type": "execute_result"
    }
   ],
   "source": [
    "X = np.array(X_train).astype('float32')\n",
    "Y = np.array(y_train)\n",
    "len(X)"
   ]
  },
  {
   "cell_type": "code",
   "execution_count": 11,
   "metadata": {},
   "outputs": [
    {
     "name": "stdout",
     "output_type": "stream",
     "text": [
      "(1800, 60)\n",
      "(1800, 9)\n",
      "(7200, 60, 1)\n",
      "(1800, 60, 1)\n"
     ]
    },
    {
     "data": {
      "text/plain": [
       "(7200, 9)"
      ]
     },
     "execution_count": 11,
     "metadata": {},
     "output_type": "execute_result"
    }
   ],
   "source": [
    "print(X_test.shape)\n",
    "print(y_test.shape)\n",
    "X_train_np = np.expand_dims(X_train_np, axis=2)\n",
    "print(X_train_np.shape)\n",
    "X_test = np.expand_dims(X_test, axis=2)\n",
    "print(X_test.shape)\n",
    "#Y_train_np = np.expand_dims(Y_train_np, axis=2)\n",
    "Y_train_np.shape"
   ]
  },
  {
   "cell_type": "markdown",
   "metadata": {},
   "source": [
    "### Define Neural Network architecture"
   ]
  },
  {
   "cell_type": "code",
   "execution_count": 30,
   "metadata": {},
   "outputs": [],
   "source": [
    "def create_dense(layer_sizes):\n",
    "    model = Sequential()\n",
    "\n",
    "    model.add(Conv1D(32, 3, padding ='same', input_shape=(60,1)))\n",
    "    model.add(BatchNormalization())\n",
    "    model.add(Activation('relu'))\n",
    "    model.add(MaxPooling1D(2))\n",
    "    \n",
    "    model.add(Conv1D(64, 3, padding ='same'))\n",
    "    model.add(BatchNormalization())\n",
    "    model.add(Activation('relu'))\n",
    "    model.add(MaxPooling1D(2))\n",
    "    \n",
    "    model.add(Conv1D(64, 3, padding ='same'))\n",
    "    model.add(BatchNormalization())\n",
    "    model.add(Activation('relu'))\n",
    "    model.add(MaxPooling1D(2))\n",
    "  \n",
    "    model.add(GlobalAveragePooling1D())\n",
    "  \n",
    "    model.add(Dense(128, activation='relu'))\n",
    "    model.add(Dropout(0.2))\n",
    "    \n",
    "    model.add(Dense(128, activation = 'relu'))\n",
    "    model.add(Dropout(0.2))\n",
    "    \n",
    "    model.add(Dense(9, activation='softmax'))\n",
    "    \n",
    "    model.compile(loss='categorical_crossentropy',\n",
    "                  optimizer='adam',\n",
    "                  metrics=['accuracy'])\n",
    "    return model\n",
    "\n",
    "def evaluate(model, batch_size=128, epochs=50):\n",
    "    model.summary()\n",
    "    history = model.fit(X_train_np, Y_train_np, batch_size=batch_size, epochs=epochs, verbose=1, validation_data=(X_test, y_test))\n",
    "    loss, accuracy  = model.evaluate(X_test, y_test, verbose=False)\n",
    "    print(f'Test loss: {loss:.3}')\n",
    "    print(f'Test accuracy: {accuracy:.3}')\n",
    "    plt.plot(history.history['acc'])\n",
    "    plt.plot(history.history['val_acc'])\n",
    "    plt.title('model accuracy')\n",
    "    plt.ylabel('accuracy')\n",
    "    plt.xlabel('epoch')\n",
    "    plt.legend(['training', 'validation'], loc='best')\n",
    "    plt.show()\n",
    "\n"
   ]
  },
  {
   "cell_type": "code",
   "execution_count": 31,
   "metadata": {},
   "outputs": [
    {
     "name": "stdout",
     "output_type": "stream",
     "text": [
      "_________________________________________________________________\n",
      "Layer (type)                 Output Shape              Param #   \n",
      "=================================================================\n",
      "conv1d_28 (Conv1D)           (None, 60, 32)            128       \n",
      "_________________________________________________________________\n",
      "batch_normalization_28 (Batc (None, 60, 32)            128       \n",
      "_________________________________________________________________\n",
      "activation_28 (Activation)   (None, 60, 32)            0         \n",
      "_________________________________________________________________\n",
      "max_pooling1d_28 (MaxPooling (None, 30, 32)            0         \n",
      "_________________________________________________________________\n",
      "conv1d_29 (Conv1D)           (None, 30, 64)            6208      \n",
      "_________________________________________________________________\n",
      "batch_normalization_29 (Batc (None, 30, 64)            256       \n",
      "_________________________________________________________________\n",
      "activation_29 (Activation)   (None, 30, 64)            0         \n",
      "_________________________________________________________________\n",
      "max_pooling1d_29 (MaxPooling (None, 15, 64)            0         \n",
      "_________________________________________________________________\n",
      "conv1d_30 (Conv1D)           (None, 15, 64)            12352     \n",
      "_________________________________________________________________\n",
      "batch_normalization_30 (Batc (None, 15, 64)            256       \n",
      "_________________________________________________________________\n",
      "activation_30 (Activation)   (None, 15, 64)            0         \n",
      "_________________________________________________________________\n",
      "max_pooling1d_30 (MaxPooling (None, 7, 64)             0         \n",
      "_________________________________________________________________\n",
      "global_average_pooling1d_10  (None, 64)                0         \n",
      "_________________________________________________________________\n",
      "dense_28 (Dense)             (None, 128)               8320      \n",
      "_________________________________________________________________\n",
      "dropout_19 (Dropout)         (None, 128)               0         \n",
      "_________________________________________________________________\n",
      "dense_29 (Dense)             (None, 128)               16512     \n",
      "_________________________________________________________________\n",
      "dropout_20 (Dropout)         (None, 128)               0         \n",
      "_________________________________________________________________\n",
      "dense_30 (Dense)             (None, 9)                 1161      \n",
      "=================================================================\n",
      "Total params: 45,321\n",
      "Trainable params: 45,001\n",
      "Non-trainable params: 320\n",
      "_________________________________________________________________\n",
      "Train on 7200 samples, validate on 1800 samples\n",
      "Epoch 1/50\n",
      "7200/7200 [==============================] - 15s 2ms/step - loss: 0.9449 - acc: 0.7176 - val_loss: 0.3734 - val_acc: 0.8928\n",
      "Epoch 2/50\n",
      "7200/7200 [==============================] - 8s 1ms/step - loss: 0.2002 - acc: 0.9478 - val_loss: 0.7129 - val_acc: 0.7400\n",
      "Epoch 3/50\n",
      "7200/7200 [==============================] - 8s 1ms/step - loss: 0.1163 - acc: 0.9708 - val_loss: 0.5586 - val_acc: 0.8067\n",
      "Epoch 4/50\n",
      "7200/7200 [==============================] - 8s 1ms/step - loss: 0.0929 - acc: 0.9747 - val_loss: 0.1599 - val_acc: 0.9511\n",
      "Epoch 5/50\n",
      "7200/7200 [==============================] - 9s 1ms/step - loss: 0.0696 - acc: 0.9815 - val_loss: 0.9073 - val_acc: 0.7294\n",
      "Epoch 6/50\n",
      "7200/7200 [==============================] - 8s 1ms/step - loss: 0.0574 - acc: 0.9843 - val_loss: 0.5820 - val_acc: 0.8456\n",
      "Epoch 7/50\n",
      "7200/7200 [==============================] - 7s 956us/step - loss: 0.0458 - acc: 0.9865 - val_loss: 0.8447 - val_acc: 0.7372\n",
      "Epoch 8/50\n",
      "7200/7200 [==============================] - 7s 979us/step - loss: 0.0460 - acc: 0.9860 - val_loss: 2.8980 - val_acc: 0.4367\n",
      "Epoch 9/50\n",
      "7200/7200 [==============================] - 7s 988us/step - loss: 0.0371 - acc: 0.9904 - val_loss: 0.1624 - val_acc: 0.9533\n",
      "Epoch 10/50\n",
      "7200/7200 [==============================] - 7s 1ms/step - loss: 0.0368 - acc: 0.9899 - val_loss: 2.0917 - val_acc: 0.4756\n",
      "Epoch 11/50\n",
      "7200/7200 [==============================] - 7s 918us/step - loss: 0.0307 - acc: 0.9890 - val_loss: 1.2256 - val_acc: 0.6989\n",
      "Epoch 12/50\n",
      "7200/7200 [==============================] - 6s 887us/step - loss: 0.0326 - acc: 0.9908 - val_loss: 0.2053 - val_acc: 0.9278\n",
      "Epoch 13/50\n",
      "7200/7200 [==============================] - 6s 871us/step - loss: 0.0262 - acc: 0.9918 - val_loss: 0.8551 - val_acc: 0.7533\n",
      "Epoch 14/50\n",
      "7200/7200 [==============================] - 6s 868us/step - loss: 0.0258 - acc: 0.9919 - val_loss: 0.6273 - val_acc: 0.8067\n",
      "Epoch 15/50\n",
      "7200/7200 [==============================] - 6s 866us/step - loss: 0.0280 - acc: 0.9919 - val_loss: 0.2833 - val_acc: 0.9078\n",
      "Epoch 16/50\n",
      "7200/7200 [==============================] - 6s 860us/step - loss: 0.0204 - acc: 0.9944 - val_loss: 0.9088 - val_acc: 0.6900\n",
      "Epoch 17/50\n",
      "7200/7200 [==============================] - 6s 864us/step - loss: 0.0308 - acc: 0.9900 - val_loss: 0.0512 - val_acc: 0.9844\n",
      "Epoch 18/50\n",
      "7200/7200 [==============================] - 6s 865us/step - loss: 0.0213 - acc: 0.9943 - val_loss: 0.2062 - val_acc: 0.9378\n",
      "Epoch 19/50\n",
      "7200/7200 [==============================] - 6s 863us/step - loss: 0.0199 - acc: 0.9942 - val_loss: 2.2026 - val_acc: 0.5578\n",
      "Epoch 20/50\n",
      "7200/7200 [==============================] - 6s 866us/step - loss: 0.0273 - acc: 0.9904 - val_loss: 0.5728 - val_acc: 0.8272\n",
      "Epoch 21/50\n",
      "7200/7200 [==============================] - 6s 859us/step - loss: 0.0259 - acc: 0.9907 - val_loss: 0.5820 - val_acc: 0.8156\n",
      "Epoch 22/50\n",
      "7200/7200 [==============================] - 6s 864us/step - loss: 0.0167 - acc: 0.9944 - val_loss: 0.2297 - val_acc: 0.9161\n",
      "Epoch 23/50\n",
      "7200/7200 [==============================] - 6s 857us/step - loss: 0.0211 - acc: 0.9943 - val_loss: 0.2295 - val_acc: 0.9267\n",
      "Epoch 24/50\n",
      "7200/7200 [==============================] - 6s 860us/step - loss: 0.0166 - acc: 0.9956 - val_loss: 0.4367 - val_acc: 0.8750\n",
      "Epoch 25/50\n",
      "7200/7200 [==============================] - 6s 859us/step - loss: 0.0173 - acc: 0.9943 - val_loss: 0.3789 - val_acc: 0.9106\n",
      "Epoch 26/50\n",
      "7200/7200 [==============================] - 6s 860us/step - loss: 0.0108 - acc: 0.9968 - val_loss: 0.1403 - val_acc: 0.9583\n",
      "Epoch 27/50\n",
      "7200/7200 [==============================] - 6s 858us/step - loss: 0.0097 - acc: 0.9971 - val_loss: 0.0337 - val_acc: 0.9900\n",
      "Epoch 28/50\n",
      "7200/7200 [==============================] - 6s 860us/step - loss: 0.0288 - acc: 0.9911 - val_loss: 0.1755 - val_acc: 0.9494\n",
      "Epoch 29/50\n",
      "7200/7200 [==============================] - 6s 859us/step - loss: 0.0112 - acc: 0.9976 - val_loss: 0.1224 - val_acc: 0.9717\n",
      "Epoch 30/50\n",
      "7200/7200 [==============================] - 6s 858us/step - loss: 0.0154 - acc: 0.9953 - val_loss: 1.8134 - val_acc: 0.6756\n",
      "Epoch 31/50\n",
      "7200/7200 [==============================] - 7s 937us/step - loss: 0.0140 - acc: 0.9958 - val_loss: 0.1902 - val_acc: 0.9328\n",
      "Epoch 32/50\n",
      "7200/7200 [==============================] - 7s 961us/step - loss: 0.0112 - acc: 0.9967 - val_loss: 0.4432 - val_acc: 0.8528\n",
      "Epoch 33/50\n",
      "7200/7200 [==============================] - 7s 978us/step - loss: 0.0126 - acc: 0.9962 - val_loss: 5.5269 - val_acc: 0.2989\n",
      "Epoch 34/50\n",
      "7200/7200 [==============================] - 7s 996us/step - loss: 0.0072 - acc: 0.9975 - val_loss: 0.0997 - val_acc: 0.9767\n",
      "Epoch 35/50\n",
      "7200/7200 [==============================] - 7s 944us/step - loss: 0.0113 - acc: 0.9965 - val_loss: 0.1234 - val_acc: 0.9661\n",
      "Epoch 36/50\n",
      "7200/7200 [==============================] - 7s 965us/step - loss: 0.0121 - acc: 0.9957 - val_loss: 1.4795 - val_acc: 0.7239\n",
      "Epoch 37/50\n",
      "7200/7200 [==============================] - 7s 945us/step - loss: 0.0126 - acc: 0.9960 - val_loss: 0.1897 - val_acc: 0.9450\n",
      "Epoch 38/50\n",
      "7200/7200 [==============================] - 6s 865us/step - loss: 0.0112 - acc: 0.9972 - val_loss: 0.0982 - val_acc: 0.9733\n",
      "Epoch 39/50\n",
      "7200/7200 [==============================] - 7s 1ms/step - loss: 0.0104 - acc: 0.9971 - val_loss: 2.0847 - val_acc: 0.5322\n",
      "Epoch 40/50\n",
      "7200/7200 [==============================] - 8s 1ms/step - loss: 0.0080 - acc: 0.9974 - val_loss: 0.2159 - val_acc: 0.9389\n"
     ]
    },
    {
     "name": "stdout",
     "output_type": "stream",
     "text": [
      "Epoch 41/50\n",
      "7200/7200 [==============================] - 7s 942us/step - loss: 0.0141 - acc: 0.9956 - val_loss: 0.9158 - val_acc: 0.8244\n",
      "Epoch 42/50\n",
      "7200/7200 [==============================] - 7s 982us/step - loss: 0.0154 - acc: 0.9953 - val_loss: 1.1828 - val_acc: 0.7317\n",
      "Epoch 43/50\n",
      "7200/7200 [==============================] - 7s 954us/step - loss: 0.0068 - acc: 0.9976 - val_loss: 0.7045 - val_acc: 0.8161\n",
      "Epoch 44/50\n",
      "7200/7200 [==============================] - 7s 920us/step - loss: 0.0118 - acc: 0.9962 - val_loss: 3.5168 - val_acc: 0.5267\n",
      "Epoch 45/50\n",
      "7200/7200 [==============================] - 7s 942us/step - loss: 0.0095 - acc: 0.9976 - val_loss: 0.2844 - val_acc: 0.9111\n",
      "Epoch 46/50\n",
      "7200/7200 [==============================] - 7s 967us/step - loss: 0.0114 - acc: 0.9961 - val_loss: 1.6841 - val_acc: 0.6628\n",
      "Epoch 47/50\n",
      "7200/7200 [==============================] - 7s 1ms/step - loss: 0.0078 - acc: 0.9974 - val_loss: 2.4982 - val_acc: 0.4956\n",
      "Epoch 48/50\n",
      "7200/7200 [==============================] - 7s 992us/step - loss: 0.0174 - acc: 0.9946 - val_loss: 0.1352 - val_acc: 0.9544\n",
      "Epoch 49/50\n",
      "7200/7200 [==============================] - 7s 947us/step - loss: 0.0101 - acc: 0.9968 - val_loss: 1.1879 - val_acc: 0.7739\n",
      "Epoch 50/50\n",
      "7200/7200 [==============================] - 7s 929us/step - loss: 0.0094 - acc: 0.9974 - val_loss: 0.7326 - val_acc: 0.8417\n",
      "Test loss: 0.733\n",
      "Test accuracy: 0.842\n"
     ]
    },
    {
     "data": {
      "image/png": "[encoded data removed]",
      "text/plain": [
       "<Figure size 432x288 with 1 Axes>"
      ]
     },
     "metadata": {
      "needs_background": "light"
     },
     "output_type": "display_data"
    }
   ],
   "source": [
    "# for layers in range(1, 5):\n",
    "model = create_dense([32] * 5)\n",
    "evaluate(model)"
   ]
  }
 ],
 "metadata": {
  "kernelspec": {
   "display_name": "Python 3",
   "language": "python",
   "name": "python3"
  },
  "language_info": {
   "codemirror_mode": {
    "name": "ipython",
    "version": 3
   },
   "file_extension": ".py",
   "mimetype": "text/x-python",
   "name": "python",
   "nbconvert_exporter": "python",
   "pygments_lexer": "ipython3",
   "version": "3.6.8"
  }
 },
 "nbformat": 4,
 "nbformat_minor": 1
}
