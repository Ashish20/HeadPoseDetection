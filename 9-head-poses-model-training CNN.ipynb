{
 "cells": [
  {
   "cell_type": "markdown",
   "metadata": {},
   "source": [
    "# 9 Head poses Model Training\n",
    "\n",
    "Neural Network model for a quick Head Pose estimation, using just facial points as input. The model was made for real-time control of a Pan-Tilt camera using face movements as the control signal. "
   ]
  },
  {
   "cell_type": "markdown",
   "metadata": {},
   "source": [
    "### Load dependencies, set random seed for reproducibility"
   ]
  },
  {
   "cell_type": "code",
   "execution_count": 1,
   "metadata": {},
   "outputs": [
    {
     "name": "stderr",
     "output_type": "stream",
     "text": [
      "Using TensorFlow backend.\n"
     ]
    }
   ],
   "source": [
    "import numpy as np\n",
    "import pandas as pd\n",
    "np.random.seed(14)\n",
    "\n",
    "import keras\n",
    "from keras.models import Sequential\n",
    "from keras.layers import Dense, Flatten\n",
    "from keras.optimizers import SGD\n",
    "\n",
    "from keras.layers import Dropout, Activation, Conv2D, MaxPooling2D, MaxPooling1D, GlobalAveragePooling1D\n",
    "from keras.layers.normalization import BatchNormalization \n",
    "from keras import regularizers \n",
    "from keras.layers.convolutional import Conv1D\n",
    "\n",
    "from sklearn.model_selection import train_test_split\n",
    "from matplotlib import pyplot as plt\n",
    "from numpy import array"
   ]
  },
  {
   "cell_type": "markdown",
   "metadata": {},
   "source": [
    "### Read and preprocess the dataset"
   ]
  },
  {
   "cell_type": "code",
   "execution_count": 69,
   "metadata": {},
   "outputs": [
    {
     "name": "stdout",
     "output_type": "stream",
     "text": [
      "(9000, 61)\n"
     ]
    }
   ],
   "source": [
    "dfCenter = pd.read_csv('datasets/face_center.csv')\n",
    "dfCenter2 = pd.read_csv('datasets/face_center2.csv')\n",
    "dfCenter = dfCenter.append(dfCenter2, ignore_index = True)\n",
    "\n",
    "dfRight = pd.read_csv('datasets/face_right.csv')\n",
    "dfRight2 = pd.read_csv('datasets/face_right2.csv')\n",
    "dfRight = dfRight.append(dfRight2, ignore_index = True)\n",
    "\n",
    "dfLeft = pd.read_csv('datasets/face_left.csv')\n",
    "dfLeft2 = pd.read_csv('datasets/face_left2.csv')\n",
    "dfLeft = dfLeft.append(dfLeft2, ignore_index = True)\n",
    "\n",
    "dfUp = pd.read_csv('datasets/face_up.csv')\n",
    "dfUp2 = pd.read_csv('datasets/face_up2.csv')\n",
    "dfUp = dfUp.append(dfUp2, ignore_index = True)\n",
    "\n",
    "dfDown = pd.read_csv('datasets/face_down.csv')\n",
    "dfDown2 = pd.read_csv('datasets/face_down2.csv')\n",
    "dfDown = dfDown.append(dfDown2, ignore_index = True)\n",
    "\n",
    "dfUpRight = pd.read_csv('datasets/face_up_right.csv')\n",
    "dfUpRight2 = pd.read_csv('datasets/face_up_right2.csv')\n",
    "dfUpRight = dfUpRight.append(dfUpRight2, ignore_index = True)\n",
    "\n",
    "dfUpLeft = pd.read_csv('datasets/face_up_left.csv')\n",
    "dfUpLeft2 = pd.read_csv('datasets/face_up_left2.csv')\n",
    "dfUpLeft = dfUpLeft.append(dfUpLeft2, ignore_index = True)\n",
    "\n",
    "dfDownRight = pd.read_csv('datasets/face_down_right.csv')\n",
    "dfDownRight2 = pd.read_csv('datasets/face_down_right2.csv')\n",
    "dfDownRight = dfDownRight.append(dfDownRight2, ignore_index = True)\n",
    "\n",
    "dfDownLeft = pd.read_csv('datasets/face_down_left.csv')\n",
    "dfDownLeft2 = pd.read_csv('datasets/face_down_left2.csv')\n",
    "dfDownLeft = dfDownLeft.append(dfDownLeft2, ignore_index = True)\n",
    "\n",
    "columns = list(dfCenter)\n",
    "\n",
    "dfCenter['RESULT'] = 0\n",
    "dfRight['RESULT'] = 1\n",
    "dfLeft['RESULT'] = 2\n",
    "dfUp['RESULT'] = 3\n",
    "dfDown['RESULT'] = 4\n",
    "dfUpRight['RESULT'] = 5\n",
    "dfUpLeft['RESULT'] = 6\n",
    "dfDownRight['RESULT'] = 7\n",
    "dfDownLeft['RESULT'] = 8\n",
    "\n",
    "\n",
    "df = dfCenter.append(dfRight, ignore_index=True).append(dfLeft, ignore_index = True)\n",
    "df = df.append(dfUp, ignore_index = True).append(dfDown, ignore_index = True)\n",
    "df = df.append(dfUpRight, ignore_index = True).append(dfUpLeft, ignore_index = True)\n",
    "df = df.append(dfDownRight, ignore_index = True).append(dfDownLeft, ignore_index = True)\n",
    "\n",
    "\n",
    "print(df.shape)"
   ]
  },
  {
   "cell_type": "code",
   "execution_count": 70,
   "metadata": {},
   "outputs": [
    {
     "data": {
      "text/html": [
       "<div>\n",
       "<style scoped>\n",
       "    .dataframe tbody tr th:only-of-type {\n",
       "        vertical-align: middle;\n",
       "    }\n",
       "\n",
       "    .dataframe tbody tr th {\n",
       "        vertical-align: top;\n",
       "    }\n",
       "\n",
       "    .dataframe thead th {\n",
       "        text-align: right;\n",
       "    }\n",
       "</style>\n",
       "<table border=\"1\" class=\"dataframe\">\n",
       "  <thead>\n",
       "    <tr style=\"text-align: right;\">\n",
       "      <th></th>\n",
       "      <th>0</th>\n",
       "      <th>1</th>\n",
       "      <th>2</th>\n",
       "      <th>3</th>\n",
       "      <th>4</th>\n",
       "      <th>5</th>\n",
       "      <th>6</th>\n",
       "      <th>7</th>\n",
       "      <th>8</th>\n",
       "      <th>9</th>\n",
       "      <th>...</th>\n",
       "      <th>51</th>\n",
       "      <th>52</th>\n",
       "      <th>53</th>\n",
       "      <th>54</th>\n",
       "      <th>55</th>\n",
       "      <th>56</th>\n",
       "      <th>57</th>\n",
       "      <th>58</th>\n",
       "      <th>59</th>\n",
       "      <th>RESULT</th>\n",
       "    </tr>\n",
       "  </thead>\n",
       "  <tbody>\n",
       "    <tr>\n",
       "      <th>8995</th>\n",
       "      <td>1.0</td>\n",
       "      <td>0.870639</td>\n",
       "      <td>0.778903</td>\n",
       "      <td>0.725278</td>\n",
       "      <td>0.680233</td>\n",
       "      <td>0.661416</td>\n",
       "      <td>0.679687</td>\n",
       "      <td>0.725736</td>\n",
       "      <td>0.733129</td>\n",
       "      <td>0.697956</td>\n",
       "      <td>...</td>\n",
       "      <td>0.440451</td>\n",
       "      <td>0.461847</td>\n",
       "      <td>0.483469</td>\n",
       "      <td>0.492717</td>\n",
       "      <td>0.535039</td>\n",
       "      <td>0.545349</td>\n",
       "      <td>0.529865</td>\n",
       "      <td>0.501872</td>\n",
       "      <td>0.437781</td>\n",
       "      <td>8</td>\n",
       "    </tr>\n",
       "    <tr>\n",
       "      <th>8996</th>\n",
       "      <td>1.0</td>\n",
       "      <td>0.873671</td>\n",
       "      <td>0.781486</td>\n",
       "      <td>0.735074</td>\n",
       "      <td>0.683443</td>\n",
       "      <td>0.655249</td>\n",
       "      <td>0.673143</td>\n",
       "      <td>0.724177</td>\n",
       "      <td>0.729398</td>\n",
       "      <td>0.696364</td>\n",
       "      <td>...</td>\n",
       "      <td>0.465730</td>\n",
       "      <td>0.481957</td>\n",
       "      <td>0.495796</td>\n",
       "      <td>0.492139</td>\n",
       "      <td>0.528186</td>\n",
       "      <td>0.541326</td>\n",
       "      <td>0.529552</td>\n",
       "      <td>0.497978</td>\n",
       "      <td>0.431634</td>\n",
       "      <td>8</td>\n",
       "    </tr>\n",
       "    <tr>\n",
       "      <th>8997</th>\n",
       "      <td>1.0</td>\n",
       "      <td>0.877431</td>\n",
       "      <td>0.790890</td>\n",
       "      <td>0.744683</td>\n",
       "      <td>0.692465</td>\n",
       "      <td>0.664408</td>\n",
       "      <td>0.677805</td>\n",
       "      <td>0.718668</td>\n",
       "      <td>0.727266</td>\n",
       "      <td>0.696576</td>\n",
       "      <td>...</td>\n",
       "      <td>0.448371</td>\n",
       "      <td>0.470152</td>\n",
       "      <td>0.488073</td>\n",
       "      <td>0.494257</td>\n",
       "      <td>0.521760</td>\n",
       "      <td>0.529427</td>\n",
       "      <td>0.515435</td>\n",
       "      <td>0.493970</td>\n",
       "      <td>0.433165</td>\n",
       "      <td>8</td>\n",
       "    </tr>\n",
       "    <tr>\n",
       "      <th>8998</th>\n",
       "      <td>1.0</td>\n",
       "      <td>0.881703</td>\n",
       "      <td>0.792698</td>\n",
       "      <td>0.741344</td>\n",
       "      <td>0.697454</td>\n",
       "      <td>0.673473</td>\n",
       "      <td>0.686590</td>\n",
       "      <td>0.721158</td>\n",
       "      <td>0.718938</td>\n",
       "      <td>0.687107</td>\n",
       "      <td>...</td>\n",
       "      <td>0.426923</td>\n",
       "      <td>0.447417</td>\n",
       "      <td>0.465064</td>\n",
       "      <td>0.479192</td>\n",
       "      <td>0.519957</td>\n",
       "      <td>0.540319</td>\n",
       "      <td>0.528465</td>\n",
       "      <td>0.506383</td>\n",
       "      <td>0.439765</td>\n",
       "      <td>8</td>\n",
       "    </tr>\n",
       "    <tr>\n",
       "      <th>8999</th>\n",
       "      <td>1.0</td>\n",
       "      <td>0.881703</td>\n",
       "      <td>0.794662</td>\n",
       "      <td>0.747706</td>\n",
       "      <td>0.701630</td>\n",
       "      <td>0.679918</td>\n",
       "      <td>0.693795</td>\n",
       "      <td>0.731132</td>\n",
       "      <td>0.732642</td>\n",
       "      <td>0.692457</td>\n",
       "      <td>...</td>\n",
       "      <td>0.448210</td>\n",
       "      <td>0.467434</td>\n",
       "      <td>0.485004</td>\n",
       "      <td>0.482802</td>\n",
       "      <td>0.528204</td>\n",
       "      <td>0.543669</td>\n",
       "      <td>0.532557</td>\n",
       "      <td>0.512542</td>\n",
       "      <td>0.446091</td>\n",
       "      <td>8</td>\n",
       "    </tr>\n",
       "  </tbody>\n",
       "</table>\n",
       "<p>5 rows × 61 columns</p>\n",
       "</div>"
      ],
      "text/plain": [
       "        0         1         2         3         4         5         6  \\\n",
       "8995  1.0  0.870639  0.778903  0.725278  0.680233  0.661416  0.679687   \n",
       "8996  1.0  0.873671  0.781486  0.735074  0.683443  0.655249  0.673143   \n",
       "8997  1.0  0.877431  0.790890  0.744683  0.692465  0.664408  0.677805   \n",
       "8998  1.0  0.881703  0.792698  0.741344  0.697454  0.673473  0.686590   \n",
       "8999  1.0  0.881703  0.794662  0.747706  0.701630  0.679918  0.693795   \n",
       "\n",
       "             7         8         9  ...        51        52        53  \\\n",
       "8995  0.725736  0.733129  0.697956  ...  0.440451  0.461847  0.483469   \n",
       "8996  0.724177  0.729398  0.696364  ...  0.465730  0.481957  0.495796   \n",
       "8997  0.718668  0.727266  0.696576  ...  0.448371  0.470152  0.488073   \n",
       "8998  0.721158  0.718938  0.687107  ...  0.426923  0.447417  0.465064   \n",
       "8999  0.731132  0.732642  0.692457  ...  0.448210  0.467434  0.485004   \n",
       "\n",
       "            54        55        56        57        58        59  RESULT  \n",
       "8995  0.492717  0.535039  0.545349  0.529865  0.501872  0.437781       8  \n",
       "8996  0.492139  0.528186  0.541326  0.529552  0.497978  0.431634       8  \n",
       "8997  0.494257  0.521760  0.529427  0.515435  0.493970  0.433165       8  \n",
       "8998  0.479192  0.519957  0.540319  0.528465  0.506383  0.439765       8  \n",
       "8999  0.482802  0.528204  0.543669  0.532557  0.512542  0.446091       8  \n",
       "\n",
       "[5 rows x 61 columns]"
      ]
     },
     "execution_count": 70,
     "metadata": {},
     "output_type": "execute_result"
    }
   ],
   "source": [
    "df.tail()"
   ]
  },
  {
   "cell_type": "code",
   "execution_count": 71,
   "metadata": {},
   "outputs": [],
   "source": [
    "np_arr = df.values"
   ]
  },
  {
   "cell_type": "code",
   "execution_count": 72,
   "metadata": {},
   "outputs": [
    {
     "data": {
      "text/plain": [
       "(9000, 61)"
      ]
     },
     "execution_count": 72,
     "metadata": {},
     "output_type": "execute_result"
    }
   ],
   "source": [
    "np_arr.shape"
   ]
  },
  {
   "cell_type": "markdown",
   "metadata": {},
   "source": [
    "### Define input data and desired output, and then split training and test observations"
   ]
  },
  {
   "cell_type": "code",
   "execution_count": 73,
   "metadata": {
    "scrolled": true
   },
   "outputs": [
    {
     "name": "stdout",
     "output_type": "stream",
     "text": [
      "[[0. 1. 0. 0. 0. 0. 0. 0. 0.]\n",
      " [0. 0. 0. 0. 0. 0. 1. 0. 0.]\n",
      " [0. 0. 1. 0. 0. 0. 0. 0. 0.]\n",
      " [0. 0. 0. 1. 0. 0. 0. 0. 0.]\n",
      " [0. 0. 0. 0. 0. 0. 0. 1. 0.]]\n"
     ]
    }
   ],
   "source": [
    "X = df[columns]\n",
    "y = df['RESULT']\n",
    "\n",
    "X_train, X_test, y_train, y_test = train_test_split(X, y, test_size = .2, random_state=14)\n",
    "\n",
    "c = np.array(X_train).astype('float32')\n",
    "X_test = np.array(X_test).astype('float32')\n",
    "\n",
    "n_classes = 9\n",
    "#one hot encoding\n",
    "y_train = keras.utils.to_categorical(y_train, n_classes)\n",
    "y_test = keras.utils.to_categorical(y_test, n_classes)\n",
    "\n",
    "print (y_test[:5])"
   ]
  },
  {
   "cell_type": "code",
   "execution_count": 74,
   "metadata": {},
   "outputs": [],
   "source": [
    "X_train_np = X_train.values \n",
    "Y_train_np = y_train"
   ]
  },
  {
   "cell_type": "code",
   "execution_count": 75,
   "metadata": {},
   "outputs": [
    {
     "data": {
      "text/plain": [
       "7200"
      ]
     },
     "execution_count": 75,
     "metadata": {},
     "output_type": "execute_result"
    }
   ],
   "source": [
    "X = np.array(X_train).astype('float32')\n",
    "Y = np.array(y_train)\n",
    "len(X)"
   ]
  },
  {
   "cell_type": "code",
   "execution_count": 76,
   "metadata": {},
   "outputs": [
    {
     "name": "stdout",
     "output_type": "stream",
     "text": [
      "(1800, 60)\n",
      "(1800, 9)\n",
      "(7200, 60, 1)\n",
      "(1800, 60, 1)\n"
     ]
    },
    {
     "data": {
      "text/plain": [
       "(7200, 9)"
      ]
     },
     "execution_count": 76,
     "metadata": {},
     "output_type": "execute_result"
    }
   ],
   "source": [
    "print(X_test.shape)\n",
    "print(y_test.shape)\n",
    "X_train_np = np.expand_dims(X_train_np, axis=2)\n",
    "print(X_train_np.shape)\n",
    "X_test = np.expand_dims(X_test, axis=2)\n",
    "print(X_test.shape)\n",
    "#Y_train_np = np.expand_dims(Y_train_np, axis=2)\n",
    "Y_train_np.shape"
   ]
  },
  {
   "cell_type": "markdown",
   "metadata": {},
   "source": [
    "### Define Neural Network architecture"
   ]
  },
  {
   "cell_type": "code",
   "execution_count": 85,
   "metadata": {},
   "outputs": [],
   "source": [
    "def create_dense(layer_sizes):\n",
    "    model = Sequential()\n",
    "\n",
    "    model.add(Conv1D(64, 3, padding ='same', input_shape=(60,1)))\n",
    "    model.add(Activation('elu'))\n",
    "    model.add(MaxPooling1D(2))\n",
    "    model.add(Conv1D(64, 3, padding ='same'))\n",
    "    model.add(BatchNormalization())\n",
    "    \n",
    "    \n",
    "    \n",
    "    model.add(Conv1D(128, 3, padding ='same'))\n",
    "    model.add(Activation('elu'))\n",
    "    model.add(MaxPooling1D(2))\n",
    "    model.add(Conv1D(128, 3, padding ='same'))\n",
    "    model.add(BatchNormalization())\n",
    "    \n",
    "    model.add(Conv1D(256, 3, padding ='same'))\n",
    "    model.add(Activation('elu'))\n",
    "    model.add(MaxPooling1D(2))\n",
    "    model.add(Conv1D(256, 3, padding ='same'))\n",
    "    model.add(BatchNormalization())\n",
    "  \n",
    "    model.add(GlobalAveragePooling1D())\n",
    "  \n",
    "    model.add(Dense(128, activation='elu'))\n",
    "    model.add(Dropout(0.2))\n",
    "    \n",
    "    model.add(Dense(128, activation = 'elu'))\n",
    "    model.add(Dropout(0.2))\n",
    "    \n",
    "    model.add(Dense(9, activation='softmax'))\n",
    "    \n",
    "    model.compile(loss='categorical_crossentropy',\n",
    "                  optimizer=SGD(lr=0.00125),\n",
    "                  metrics=['accuracy'])\n",
    "    return model\n",
    "\n",
    "def evaluate(model, batch_size=128, epochs=70):\n",
    "    model.summary()\n",
    "    history = model.fit(X_train_np, Y_train_np, batch_size=batch_size, epochs=epochs, verbose=1, validation_data=(X_test, y_test))\n",
    "    loss, accuracy  = model.evaluate(X_test, y_test, verbose=False)\n",
    "    print(f'Test loss: {loss:.3}')\n",
    "    print(f'Test accuracy: {accuracy:.3}')\n",
    "    plt.plot(history.history['acc'])\n",
    "    plt.plot(history.history['val_acc'])\n",
    "    plt.title('model accuracy')\n",
    "    plt.ylabel('accuracy')\n",
    "    plt.xlabel('epoch')\n",
    "    plt.legend(['training', 'validation'], loc='best')\n",
    "    plt.show()\n",
    "\n"
   ]
  },
  {
   "cell_type": "code",
   "execution_count": 86,
   "metadata": {},
   "outputs": [
    {
     "name": "stdout",
     "output_type": "stream",
     "text": [
      "_________________________________________________________________\n",
      "Layer (type)                 Output Shape              Param #   \n",
      "=================================================================\n",
      "conv1d_119 (Conv1D)          (None, 60, 64)            256       \n",
      "_________________________________________________________________\n",
      "activation_46 (Activation)   (None, 60, 64)            0         \n",
      "_________________________________________________________________\n",
      "max_pooling1d_68 (MaxPooling (None, 30, 64)            0         \n",
      "_________________________________________________________________\n",
      "conv1d_120 (Conv1D)          (None, 30, 64)            12352     \n",
      "_________________________________________________________________\n",
      "batch_normalization_73 (Batc (None, 30, 64)            256       \n",
      "_________________________________________________________________\n",
      "conv1d_121 (Conv1D)          (None, 30, 128)           24704     \n",
      "_________________________________________________________________\n",
      "activation_47 (Activation)   (None, 30, 128)           0         \n",
      "_________________________________________________________________\n",
      "max_pooling1d_69 (MaxPooling (None, 15, 128)           0         \n",
      "_________________________________________________________________\n",
      "conv1d_122 (Conv1D)          (None, 15, 128)           49280     \n",
      "_________________________________________________________________\n",
      "batch_normalization_74 (Batc (None, 15, 128)           512       \n",
      "_________________________________________________________________\n",
      "conv1d_123 (Conv1D)          (None, 15, 256)           98560     \n",
      "_________________________________________________________________\n",
      "activation_48 (Activation)   (None, 15, 256)           0         \n",
      "_________________________________________________________________\n",
      "max_pooling1d_70 (MaxPooling (None, 7, 256)            0         \n",
      "_________________________________________________________________\n",
      "conv1d_124 (Conv1D)          (None, 7, 256)            196864    \n",
      "_________________________________________________________________\n",
      "batch_normalization_75 (Batc (None, 7, 256)            1024      \n",
      "_________________________________________________________________\n",
      "global_average_pooling1d_29  (None, 256)               0         \n",
      "_________________________________________________________________\n",
      "dense_78 (Dense)             (None, 128)               32896     \n",
      "_________________________________________________________________\n",
      "dropout_47 (Dropout)         (None, 128)               0         \n",
      "_________________________________________________________________\n",
      "dense_79 (Dense)             (None, 128)               16512     \n",
      "_________________________________________________________________\n",
      "dropout_48 (Dropout)         (None, 128)               0         \n",
      "_________________________________________________________________\n",
      "dense_80 (Dense)             (None, 9)                 1161      \n",
      "=================================================================\n",
      "Total params: 434,377\n",
      "Trainable params: 433,481\n",
      "Non-trainable params: 896\n",
      "_________________________________________________________________\n",
      "Train on 7200 samples, validate on 1800 samples\n",
      "Epoch 1/70\n",
      "7200/7200 [==============================] - 32s 4ms/step - loss: 1.4317 - acc: 0.5672 - val_loss: 1.2426 - val_acc: 0.6289\n",
      "Epoch 2/70\n",
      "7200/7200 [==============================] - 20s 3ms/step - loss: 0.8926 - acc: 0.8049 - val_loss: 0.9150 - val_acc: 0.7789\n",
      "Epoch 3/70\n",
      "7200/7200 [==============================] - 19s 3ms/step - loss: 0.6838 - acc: 0.8678 - val_loss: 0.7619 - val_acc: 0.8017\n",
      "Epoch 4/70\n",
      "7200/7200 [==============================] - 19s 3ms/step - loss: 0.5768 - acc: 0.8971 - val_loss: 0.6104 - val_acc: 0.8333\n",
      "Epoch 5/70\n",
      "7200/7200 [==============================] - 18s 3ms/step - loss: 0.5013 - acc: 0.9115 - val_loss: 0.5356 - val_acc: 0.8572\n",
      "Epoch 6/70\n",
      "7200/7200 [==============================] - 17s 2ms/step - loss: 0.4460 - acc: 0.9189 - val_loss: 0.4461 - val_acc: 0.8944\n",
      "Epoch 7/70\n",
      "7200/7200 [==============================] - 18s 2ms/step - loss: 0.4022 - acc: 0.9264 - val_loss: 0.3914 - val_acc: 0.9228\n",
      "Epoch 8/70\n",
      "7200/7200 [==============================] - 18s 2ms/step - loss: 0.3645 - acc: 0.9344 - val_loss: 0.3311 - val_acc: 0.9389\n",
      "Epoch 9/70\n",
      "7200/7200 [==============================] - 18s 2ms/step - loss: 0.3396 - acc: 0.9353 - val_loss: 0.3024 - val_acc: 0.9450\n",
      "Epoch 10/70\n",
      "7200/7200 [==============================] - 19s 3ms/step - loss: 0.3166 - acc: 0.9410 - val_loss: 0.2717 - val_acc: 0.9517\n",
      "Epoch 11/70\n",
      "7200/7200 [==============================] - 18s 2ms/step - loss: 0.2940 - acc: 0.9450 - val_loss: 0.2588 - val_acc: 0.9494\n",
      "Epoch 12/70\n",
      "7200/7200 [==============================] - 18s 3ms/step - loss: 0.2793 - acc: 0.9442 - val_loss: 0.2415 - val_acc: 0.9528\n",
      "Epoch 13/70\n",
      "7200/7200 [==============================] - 19s 3ms/step - loss: 0.2615 - acc: 0.9478 - val_loss: 0.2295 - val_acc: 0.9561\n",
      "Epoch 14/70\n",
      "7200/7200 [==============================] - 21s 3ms/step - loss: 0.2517 - acc: 0.9519 - val_loss: 0.2155 - val_acc: 0.9589\n",
      "Epoch 15/70\n",
      "7200/7200 [==============================] - 21s 3ms/step - loss: 0.2413 - acc: 0.9504 - val_loss: 0.2080 - val_acc: 0.9594\n",
      "Epoch 16/70\n",
      "7200/7200 [==============================] - 21s 3ms/step - loss: 0.2312 - acc: 0.9528 - val_loss: 0.2016 - val_acc: 0.9572\n",
      "Epoch 17/70\n",
      "7200/7200 [==============================] - 21s 3ms/step - loss: 0.2235 - acc: 0.9564 - val_loss: 0.1931 - val_acc: 0.9611\n",
      "Epoch 18/70\n",
      "7200/7200 [==============================] - 18s 3ms/step - loss: 0.2128 - acc: 0.9551 - val_loss: 0.1868 - val_acc: 0.9639\n",
      "Epoch 19/70\n",
      "7200/7200 [==============================] - 19s 3ms/step - loss: 0.2053 - acc: 0.9583 - val_loss: 0.1754 - val_acc: 0.9672\n",
      "Epoch 20/70\n",
      "7200/7200 [==============================] - 18s 2ms/step - loss: 0.2014 - acc: 0.9593 - val_loss: 0.1695 - val_acc: 0.9667\n",
      "Epoch 21/70\n",
      "7200/7200 [==============================] - 17s 2ms/step - loss: 0.1936 - acc: 0.9613 - val_loss: 0.1669 - val_acc: 0.9650\n",
      "Epoch 22/70\n",
      "7200/7200 [==============================] - 17s 2ms/step - loss: 0.1910 - acc: 0.9590 - val_loss: 0.1605 - val_acc: 0.9672\n",
      "Epoch 23/70\n",
      "7200/7200 [==============================] - 17s 2ms/step - loss: 0.1840 - acc: 0.9629 - val_loss: 0.1528 - val_acc: 0.9694\n",
      "Epoch 24/70\n",
      "7200/7200 [==============================] - 17s 2ms/step - loss: 0.1825 - acc: 0.9618 - val_loss: 0.1504 - val_acc: 0.9689\n",
      "Epoch 25/70\n",
      "7200/7200 [==============================] - 17s 2ms/step - loss: 0.1732 - acc: 0.9639 - val_loss: 0.1521 - val_acc: 0.9683\n",
      "Epoch 26/70\n",
      "7200/7200 [==============================] - 21s 3ms/step - loss: 0.1705 - acc: 0.9643 - val_loss: 0.1472 - val_acc: 0.9689\n",
      "Epoch 27/70\n",
      "7200/7200 [==============================] - 22s 3ms/step - loss: 0.1674 - acc: 0.9643 - val_loss: 0.1498 - val_acc: 0.9661\n",
      "Epoch 28/70\n",
      "7200/7200 [==============================] - 20s 3ms/step - loss: 0.1611 - acc: 0.9660 - val_loss: 0.1368 - val_acc: 0.9689\n",
      "Epoch 29/70\n",
      "7200/7200 [==============================] - 21s 3ms/step - loss: 0.1581 - acc: 0.9658 - val_loss: 0.1317 - val_acc: 0.9706\n",
      "Epoch 30/70\n",
      "7200/7200 [==============================] - 17s 2ms/step - loss: 0.1529 - acc: 0.9663 - val_loss: 0.1263 - val_acc: 0.9717\n",
      "Epoch 31/70\n",
      "7200/7200 [==============================] - 18s 3ms/step - loss: 0.1502 - acc: 0.9667 - val_loss: 0.1280 - val_acc: 0.9717\n",
      "Epoch 32/70\n",
      "7200/7200 [==============================] - 17s 2ms/step - loss: 0.1465 - acc: 0.9669 - val_loss: 0.1239 - val_acc: 0.9706\n",
      "Epoch 33/70\n",
      "7200/7200 [==============================] - 18s 2ms/step - loss: 0.1442 - acc: 0.9682 - val_loss: 0.1187 - val_acc: 0.9739\n",
      "Epoch 34/70\n",
      "7200/7200 [==============================] - 18s 3ms/step - loss: 0.1393 - acc: 0.9694 - val_loss: 0.1189 - val_acc: 0.9706\n",
      "Epoch 35/70\n",
      "7200/7200 [==============================] - 18s 2ms/step - loss: 0.1361 - acc: 0.9690 - val_loss: 0.1208 - val_acc: 0.9717\n",
      "Epoch 36/70\n",
      "7200/7200 [==============================] - 18s 3ms/step - loss: 0.1350 - acc: 0.9692 - val_loss: 0.1139 - val_acc: 0.9728\n",
      "Epoch 37/70\n",
      "7200/7200 [==============================] - 18s 3ms/step - loss: 0.1342 - acc: 0.9707 - val_loss: 0.1112 - val_acc: 0.9728\n",
      "Epoch 38/70\n"
     ]
    },
    {
     "name": "stdout",
     "output_type": "stream",
     "text": [
      "7200/7200 [==============================] - 18s 2ms/step - loss: 0.1331 - acc: 0.9703 - val_loss: 0.1216 - val_acc: 0.9706\n",
      "Epoch 39/70\n",
      "7200/7200 [==============================] - 18s 2ms/step - loss: 0.1275 - acc: 0.9707 - val_loss: 0.1461 - val_acc: 0.9578\n",
      "Epoch 40/70\n",
      "7200/7200 [==============================] - 18s 3ms/step - loss: 0.1261 - acc: 0.9690 - val_loss: 0.1051 - val_acc: 0.9739\n",
      "Epoch 41/70\n",
      "7200/7200 [==============================] - 18s 2ms/step - loss: 0.1251 - acc: 0.9710 - val_loss: 0.1019 - val_acc: 0.9744\n",
      "Epoch 42/70\n",
      "7200/7200 [==============================] - 18s 2ms/step - loss: 0.1242 - acc: 0.9708 - val_loss: 0.1979 - val_acc: 0.9433\n",
      "Epoch 43/70\n",
      "7200/7200 [==============================] - 18s 2ms/step - loss: 0.1164 - acc: 0.9728 - val_loss: 0.1025 - val_acc: 0.9733\n",
      "Epoch 44/70\n",
      "7200/7200 [==============================] - 18s 2ms/step - loss: 0.1177 - acc: 0.9729 - val_loss: 0.1028 - val_acc: 0.9739\n",
      "Epoch 45/70\n",
      "7200/7200 [==============================] - 18s 3ms/step - loss: 0.1139 - acc: 0.9725 - val_loss: 0.1024 - val_acc: 0.9711\n",
      "Epoch 46/70\n",
      "7200/7200 [==============================] - 19s 3ms/step - loss: 0.1127 - acc: 0.9724 - val_loss: 0.0922 - val_acc: 0.9761\n",
      "Epoch 47/70\n",
      "7200/7200 [==============================] - 19s 3ms/step - loss: 0.1102 - acc: 0.9740 - val_loss: 0.0941 - val_acc: 0.9756\n",
      "Epoch 48/70\n",
      "7200/7200 [==============================] - 18s 2ms/step - loss: 0.1100 - acc: 0.9749 - val_loss: 0.0906 - val_acc: 0.9761\n",
      "Epoch 49/70\n",
      "7200/7200 [==============================] - 17s 2ms/step - loss: 0.1062 - acc: 0.9742 - val_loss: 0.0920 - val_acc: 0.9783\n",
      "Epoch 50/70\n",
      "7200/7200 [==============================] - 17s 2ms/step - loss: 0.1079 - acc: 0.9733 - val_loss: 0.0884 - val_acc: 0.9772\n",
      "Epoch 51/70\n",
      "7200/7200 [==============================] - 17s 2ms/step - loss: 0.1025 - acc: 0.9751 - val_loss: 0.0916 - val_acc: 0.9744\n",
      "Epoch 52/70\n",
      "7200/7200 [==============================] - 17s 2ms/step - loss: 0.1024 - acc: 0.9760 - val_loss: 0.0889 - val_acc: 0.9761\n",
      "Epoch 53/70\n",
      "7200/7200 [==============================] - 17s 2ms/step - loss: 0.1026 - acc: 0.9744 - val_loss: 0.0892 - val_acc: 0.9744\n",
      "Epoch 54/70\n",
      "7200/7200 [==============================] - 17s 2ms/step - loss: 0.1008 - acc: 0.9762 - val_loss: 0.0857 - val_acc: 0.9772\n",
      "Epoch 55/70\n",
      "7200/7200 [==============================] - 17s 2ms/step - loss: 0.0999 - acc: 0.9754 - val_loss: 0.0922 - val_acc: 0.9772\n",
      "Epoch 56/70\n",
      "7200/7200 [==============================] - 18s 2ms/step - loss: 0.0971 - acc: 0.9771 - val_loss: 0.0823 - val_acc: 0.9794\n",
      "Epoch 57/70\n",
      "7200/7200 [==============================] - 17s 2ms/step - loss: 0.0937 - acc: 0.9778 - val_loss: 0.0827 - val_acc: 0.9772\n",
      "Epoch 58/70\n",
      "7200/7200 [==============================] - 18s 2ms/step - loss: 0.0965 - acc: 0.9762 - val_loss: 0.0786 - val_acc: 0.9783\n",
      "Epoch 59/70\n",
      "7200/7200 [==============================] - 18s 3ms/step - loss: 0.0926 - acc: 0.9785 - val_loss: 0.0760 - val_acc: 0.9767\n",
      "Epoch 60/70\n",
      "7200/7200 [==============================] - 19s 3ms/step - loss: 0.0937 - acc: 0.9758 - val_loss: 0.0846 - val_acc: 0.9756\n",
      "Epoch 61/70\n",
      "7200/7200 [==============================] - 18s 3ms/step - loss: 0.0883 - acc: 0.9797 - val_loss: 0.0854 - val_acc: 0.9739\n",
      "Epoch 62/70\n",
      "7200/7200 [==============================] - 18s 2ms/step - loss: 0.0884 - acc: 0.9783 - val_loss: 0.0729 - val_acc: 0.9778\n",
      "Epoch 63/70\n",
      "7200/7200 [==============================] - 18s 2ms/step - loss: 0.0861 - acc: 0.9793 - val_loss: 0.0785 - val_acc: 0.9767\n",
      "Epoch 64/70\n",
      "7200/7200 [==============================] - 18s 3ms/step - loss: 0.0886 - acc: 0.9783 - val_loss: 0.0720 - val_acc: 0.9794\n",
      "Epoch 65/70\n",
      "7200/7200 [==============================] - 18s 2ms/step - loss: 0.0862 - acc: 0.9785 - val_loss: 0.1003 - val_acc: 0.9750\n",
      "Epoch 66/70\n",
      "7200/7200 [==============================] - 18s 2ms/step - loss: 0.0845 - acc: 0.9808 - val_loss: 0.0726 - val_acc: 0.9817\n",
      "Epoch 67/70\n",
      "7200/7200 [==============================] - 18s 2ms/step - loss: 0.0829 - acc: 0.9799 - val_loss: 0.0707 - val_acc: 0.9772\n",
      "Epoch 68/70\n",
      "7200/7200 [==============================] - 18s 2ms/step - loss: 0.0810 - acc: 0.9804 - val_loss: 0.0704 - val_acc: 0.9839\n",
      "Epoch 69/70\n",
      "7200/7200 [==============================] - 18s 2ms/step - loss: 0.0807 - acc: 0.9817 - val_loss: 0.0796 - val_acc: 0.9744\n",
      "Epoch 70/70\n",
      "7200/7200 [==============================] - 17s 2ms/step - loss: 0.0803 - acc: 0.9803 - val_loss: 0.0864 - val_acc: 0.9794\n",
      "Test loss: 0.0864\n",
      "Test accuracy: 0.979\n"
     ]
    },
    {
     "data": {
      "image/png": "[encoded data removed]",
      "text/plain": [
       "<Figure size 432x288 with 1 Axes>"
      ]
     },
     "metadata": {
      "needs_background": "light"
     },
     "output_type": "display_data"
    }
   ],
   "source": [
    "# for layers in range(1, 5):\n",
    "model = create_dense([32] * 5)\n",
    "evaluate(model)"
   ]
  },
  {
   "cell_type": "markdown",
   "metadata": {},
   "source": [
    "### Configure the model"
   ]
  },
  {
   "cell_type": "code",
   "execution_count": null,
   "metadata": {},
   "outputs": [],
   "source": [
    "# model.compile(loss='categorical_crossentropy', optimizer=SGD(lr=0.00125), metrics=['accuracy'])"
   ]
  },
  {
   "cell_type": "markdown",
   "metadata": {},
   "source": [
    "### Train the model"
   ]
  },
  {
   "cell_type": "code",
   "execution_count": null,
   "metadata": {},
   "outputs": [],
   "source": [
    "# model.fit(X_train, y_train, batch_size=32, epochs=100, verbose=1, validation_data=(X_test, y_test))\n",
    "def evaluate(model, batch_size=128, epochs=5):\n",
    "    model.summary()\n",
    "    model.compile(loss='categorical_crossentropy', optimizer=SGD(lr=0.00125), metrics=['accuracy'])\n",
    "    history = model.fit(X_train, y_train, batch_size=batch_size, epochs=epochs, verbose=1, validation_data=(X_test, y_test))\n",
    "\n",
    "    loss, accuracy  = model.evaluate(X_test, y_test, verbose=False)\n",
    "\n",
    "# plt.plot(history.history['acc'])\n",
    "# plt.plot(history.history['val_acc'])\n",
    "# plt.title('model accuracy')\n",
    "# plt.ylabel('accuracy')\n",
    "# plt.xlabel('epoch')\n",
    "# plt.legend(['training', 'validation'], loc='best')\n",
    "# plt.show()\n",
    "\n",
    "    print(f'Test loss: {loss:.3}')\n",
    "    print(f'Test accuracy: {accuracy:.3}')\n"
   ]
  },
  {
   "cell_type": "markdown",
   "metadata": {},
   "source": [
    "### Saving the model"
   ]
  },
  {
   "cell_type": "code",
   "execution_count": null,
   "metadata": {},
   "outputs": [],
   "source": [
    "for layers in range(1, 5):\n",
    "    model = create_dense([32] * layers)\n",
    "    evaluate(model)\n",
    "\n",
    "# model.save('model/model_9_positions.h5')"
   ]
  },
  {
   "cell_type": "code",
   "execution_count": null,
   "metadata": {},
   "outputs": [],
   "source": []
  }
 ],
 "metadata": {
  "kernelspec": {
   "display_name": "Python 3",
   "language": "python",
   "name": "python3"
  },
  "language_info": {
   "codemirror_mode": {
    "name": "ipython",
    "version": 3
   },
   "file_extension": ".py",
   "mimetype": "text/x-python",
   "name": "python",
   "nbconvert_exporter": "python",
   "pygments_lexer": "ipython3",
   "version": "3.6.8"
  }
 },
 "nbformat": 4,
 "nbformat_minor": 1
}
