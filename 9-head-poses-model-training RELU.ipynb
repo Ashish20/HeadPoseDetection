{
 "cells": [
  {
   "cell_type": "markdown",
   "metadata": {},
   "source": [
    "# 9 Head poses Model Training\n",
    "\n",
    "Neural Network model for a quick Head Pose estimation, using just facial points as input. The model was made for real-time control of a Pan-Tilt camera using face movements as the control signal. "
   ]
  },
  {
   "cell_type": "markdown",
   "metadata": {},
   "source": [
    "### Load dependencies, set random seed for reproducibility"
   ]
  },
  {
   "cell_type": "code",
   "execution_count": 4,
   "metadata": {},
   "outputs": [
    {
     "name": "stderr",
     "output_type": "stream",
     "text": [
      "Using TensorFlow backend.\n"
     ]
    }
   ],
   "source": [
    "import numpy as np\n",
    "import pandas as pd\n",
    "np.random.seed(14)\n",
    "\n",
    "import keras\n",
    "from keras.models import Sequential\n",
    "from keras.layers import Dense, Flatten\n",
    "from keras.optimizers import SGD\n",
    "\n",
    "from keras.layers import Dropout, Activation, Conv2D, MaxPooling2D, MaxPooling1D, GlobalAveragePooling1D\n",
    "from keras.layers.normalization import BatchNormalization \n",
    "from keras import regularizers \n",
    "from keras.layers.convolutional import Conv1D\n",
    "\n",
    "from sklearn.model_selection import train_test_split\n",
    "from matplotlib import pyplot as plt\n",
    "from numpy import array"
   ]
  },
  {
   "cell_type": "markdown",
   "metadata": {},
   "source": [
    "### Read and preprocess the dataset"
   ]
  },
  {
   "cell_type": "code",
   "execution_count": 5,
   "metadata": {},
   "outputs": [
    {
     "name": "stdout",
     "output_type": "stream",
     "text": [
      "(9000, 61)\n"
     ]
    }
   ],
   "source": [
    "dfCenter = pd.read_csv('datasets/face_center.csv')\n",
    "dfCenter2 = pd.read_csv('datasets/face_center2.csv')\n",
    "dfCenter = dfCenter.append(dfCenter2, ignore_index = True)\n",
    "\n",
    "dfRight = pd.read_csv('datasets/face_right.csv')\n",
    "dfRight2 = pd.read_csv('datasets/face_right2.csv')\n",
    "dfRight = dfRight.append(dfRight2, ignore_index = True)\n",
    "\n",
    "dfLeft = pd.read_csv('datasets/face_left.csv')\n",
    "dfLeft2 = pd.read_csv('datasets/face_left2.csv')\n",
    "dfLeft = dfLeft.append(dfLeft2, ignore_index = True)\n",
    "\n",
    "dfUp = pd.read_csv('datasets/face_up.csv')\n",
    "dfUp2 = pd.read_csv('datasets/face_up2.csv')\n",
    "dfUp = dfUp.append(dfUp2, ignore_index = True)\n",
    "\n",
    "dfDown = pd.read_csv('datasets/face_down.csv')\n",
    "dfDown2 = pd.read_csv('datasets/face_down2.csv')\n",
    "dfDown = dfDown.append(dfDown2, ignore_index = True)\n",
    "\n",
    "dfUpRight = pd.read_csv('datasets/face_up_right.csv')\n",
    "dfUpRight2 = pd.read_csv('datasets/face_up_right2.csv')\n",
    "dfUpRight = dfUpRight.append(dfUpRight2, ignore_index = True)\n",
    "\n",
    "dfUpLeft = pd.read_csv('datasets/face_up_left.csv')\n",
    "dfUpLeft2 = pd.read_csv('datasets/face_up_left2.csv')\n",
    "dfUpLeft = dfUpLeft.append(dfUpLeft2, ignore_index = True)\n",
    "\n",
    "dfDownRight = pd.read_csv('datasets/face_down_right.csv')\n",
    "dfDownRight2 = pd.read_csv('datasets/face_down_right2.csv')\n",
    "dfDownRight = dfDownRight.append(dfDownRight2, ignore_index = True)\n",
    "\n",
    "dfDownLeft = pd.read_csv('datasets/face_down_left.csv')\n",
    "dfDownLeft2 = pd.read_csv('datasets/face_down_left2.csv')\n",
    "dfDownLeft = dfDownLeft.append(dfDownLeft2, ignore_index = True)\n",
    "\n",
    "columns = list(dfCenter)\n",
    "\n",
    "dfCenter['RESULT'] = 0\n",
    "dfRight['RESULT'] = 1\n",
    "dfLeft['RESULT'] = 2\n",
    "dfUp['RESULT'] = 3\n",
    "dfDown['RESULT'] = 4\n",
    "dfUpRight['RESULT'] = 5\n",
    "dfUpLeft['RESULT'] = 6\n",
    "dfDownRight['RESULT'] = 7\n",
    "dfDownLeft['RESULT'] = 8\n",
    "\n",
    "\n",
    "df = dfCenter.append(dfRight, ignore_index=True).append(dfLeft, ignore_index = True)\n",
    "df = df.append(dfUp, ignore_index = True).append(dfDown, ignore_index = True)\n",
    "df = df.append(dfUpRight, ignore_index = True).append(dfUpLeft, ignore_index = True)\n",
    "df = df.append(dfDownRight, ignore_index = True).append(dfDownLeft, ignore_index = True)\n",
    "\n",
    "\n",
    "print(df.shape)"
   ]
  },
  {
   "cell_type": "code",
   "execution_count": 6,
   "metadata": {},
   "outputs": [
    {
     "data": {
      "text/html": [
       "<div>\n",
       "<style scoped>\n",
       "    .dataframe tbody tr th:only-of-type {\n",
       "        vertical-align: middle;\n",
       "    }\n",
       "\n",
       "    .dataframe tbody tr th {\n",
       "        vertical-align: top;\n",
       "    }\n",
       "\n",
       "    .dataframe thead th {\n",
       "        text-align: right;\n",
       "    }\n",
       "</style>\n",
       "<table border=\"1\" class=\"dataframe\">\n",
       "  <thead>\n",
       "    <tr style=\"text-align: right;\">\n",
       "      <th></th>\n",
       "      <th>0</th>\n",
       "      <th>1</th>\n",
       "      <th>2</th>\n",
       "      <th>3</th>\n",
       "      <th>4</th>\n",
       "      <th>5</th>\n",
       "      <th>6</th>\n",
       "      <th>7</th>\n",
       "      <th>8</th>\n",
       "      <th>9</th>\n",
       "      <th>...</th>\n",
       "      <th>51</th>\n",
       "      <th>52</th>\n",
       "      <th>53</th>\n",
       "      <th>54</th>\n",
       "      <th>55</th>\n",
       "      <th>56</th>\n",
       "      <th>57</th>\n",
       "      <th>58</th>\n",
       "      <th>59</th>\n",
       "      <th>RESULT</th>\n",
       "    </tr>\n",
       "  </thead>\n",
       "  <tbody>\n",
       "    <tr>\n",
       "      <th>8995</th>\n",
       "      <td>1.0</td>\n",
       "      <td>0.870639</td>\n",
       "      <td>0.778903</td>\n",
       "      <td>0.725278</td>\n",
       "      <td>0.680233</td>\n",
       "      <td>0.661416</td>\n",
       "      <td>0.679687</td>\n",
       "      <td>0.725736</td>\n",
       "      <td>0.733129</td>\n",
       "      <td>0.697956</td>\n",
       "      <td>...</td>\n",
       "      <td>0.440451</td>\n",
       "      <td>0.461847</td>\n",
       "      <td>0.483469</td>\n",
       "      <td>0.492717</td>\n",
       "      <td>0.535039</td>\n",
       "      <td>0.545349</td>\n",
       "      <td>0.529865</td>\n",
       "      <td>0.501872</td>\n",
       "      <td>0.437781</td>\n",
       "      <td>8</td>\n",
       "    </tr>\n",
       "    <tr>\n",
       "      <th>8996</th>\n",
       "      <td>1.0</td>\n",
       "      <td>0.873671</td>\n",
       "      <td>0.781486</td>\n",
       "      <td>0.735074</td>\n",
       "      <td>0.683443</td>\n",
       "      <td>0.655249</td>\n",
       "      <td>0.673143</td>\n",
       "      <td>0.724177</td>\n",
       "      <td>0.729398</td>\n",
       "      <td>0.696364</td>\n",
       "      <td>...</td>\n",
       "      <td>0.465730</td>\n",
       "      <td>0.481957</td>\n",
       "      <td>0.495796</td>\n",
       "      <td>0.492139</td>\n",
       "      <td>0.528186</td>\n",
       "      <td>0.541326</td>\n",
       "      <td>0.529552</td>\n",
       "      <td>0.497978</td>\n",
       "      <td>0.431634</td>\n",
       "      <td>8</td>\n",
       "    </tr>\n",
       "    <tr>\n",
       "      <th>8997</th>\n",
       "      <td>1.0</td>\n",
       "      <td>0.877431</td>\n",
       "      <td>0.790890</td>\n",
       "      <td>0.744683</td>\n",
       "      <td>0.692465</td>\n",
       "      <td>0.664408</td>\n",
       "      <td>0.677805</td>\n",
       "      <td>0.718668</td>\n",
       "      <td>0.727266</td>\n",
       "      <td>0.696576</td>\n",
       "      <td>...</td>\n",
       "      <td>0.448371</td>\n",
       "      <td>0.470152</td>\n",
       "      <td>0.488073</td>\n",
       "      <td>0.494257</td>\n",
       "      <td>0.521760</td>\n",
       "      <td>0.529427</td>\n",
       "      <td>0.515435</td>\n",
       "      <td>0.493970</td>\n",
       "      <td>0.433165</td>\n",
       "      <td>8</td>\n",
       "    </tr>\n",
       "    <tr>\n",
       "      <th>8998</th>\n",
       "      <td>1.0</td>\n",
       "      <td>0.881703</td>\n",
       "      <td>0.792698</td>\n",
       "      <td>0.741344</td>\n",
       "      <td>0.697454</td>\n",
       "      <td>0.673473</td>\n",
       "      <td>0.686590</td>\n",
       "      <td>0.721158</td>\n",
       "      <td>0.718938</td>\n",
       "      <td>0.687107</td>\n",
       "      <td>...</td>\n",
       "      <td>0.426923</td>\n",
       "      <td>0.447417</td>\n",
       "      <td>0.465064</td>\n",
       "      <td>0.479192</td>\n",
       "      <td>0.519957</td>\n",
       "      <td>0.540319</td>\n",
       "      <td>0.528465</td>\n",
       "      <td>0.506383</td>\n",
       "      <td>0.439765</td>\n",
       "      <td>8</td>\n",
       "    </tr>\n",
       "    <tr>\n",
       "      <th>8999</th>\n",
       "      <td>1.0</td>\n",
       "      <td>0.881703</td>\n",
       "      <td>0.794662</td>\n",
       "      <td>0.747706</td>\n",
       "      <td>0.701630</td>\n",
       "      <td>0.679918</td>\n",
       "      <td>0.693795</td>\n",
       "      <td>0.731132</td>\n",
       "      <td>0.732642</td>\n",
       "      <td>0.692457</td>\n",
       "      <td>...</td>\n",
       "      <td>0.448210</td>\n",
       "      <td>0.467434</td>\n",
       "      <td>0.485004</td>\n",
       "      <td>0.482802</td>\n",
       "      <td>0.528204</td>\n",
       "      <td>0.543669</td>\n",
       "      <td>0.532557</td>\n",
       "      <td>0.512542</td>\n",
       "      <td>0.446091</td>\n",
       "      <td>8</td>\n",
       "    </tr>\n",
       "  </tbody>\n",
       "</table>\n",
       "<p>5 rows × 61 columns</p>\n",
       "</div>"
      ],
      "text/plain": [
       "        0         1         2         3         4         5         6  \\\n",
       "8995  1.0  0.870639  0.778903  0.725278  0.680233  0.661416  0.679687   \n",
       "8996  1.0  0.873671  0.781486  0.735074  0.683443  0.655249  0.673143   \n",
       "8997  1.0  0.877431  0.790890  0.744683  0.692465  0.664408  0.677805   \n",
       "8998  1.0  0.881703  0.792698  0.741344  0.697454  0.673473  0.686590   \n",
       "8999  1.0  0.881703  0.794662  0.747706  0.701630  0.679918  0.693795   \n",
       "\n",
       "             7         8         9  ...        51        52        53  \\\n",
       "8995  0.725736  0.733129  0.697956  ...  0.440451  0.461847  0.483469   \n",
       "8996  0.724177  0.729398  0.696364  ...  0.465730  0.481957  0.495796   \n",
       "8997  0.718668  0.727266  0.696576  ...  0.448371  0.470152  0.488073   \n",
       "8998  0.721158  0.718938  0.687107  ...  0.426923  0.447417  0.465064   \n",
       "8999  0.731132  0.732642  0.692457  ...  0.448210  0.467434  0.485004   \n",
       "\n",
       "            54        55        56        57        58        59  RESULT  \n",
       "8995  0.492717  0.535039  0.545349  0.529865  0.501872  0.437781       8  \n",
       "8996  0.492139  0.528186  0.541326  0.529552  0.497978  0.431634       8  \n",
       "8997  0.494257  0.521760  0.529427  0.515435  0.493970  0.433165       8  \n",
       "8998  0.479192  0.519957  0.540319  0.528465  0.506383  0.439765       8  \n",
       "8999  0.482802  0.528204  0.543669  0.532557  0.512542  0.446091       8  \n",
       "\n",
       "[5 rows x 61 columns]"
      ]
     },
     "execution_count": 6,
     "metadata": {},
     "output_type": "execute_result"
    }
   ],
   "source": [
    "df.tail()"
   ]
  },
  {
   "cell_type": "code",
   "execution_count": 7,
   "metadata": {},
   "outputs": [],
   "source": [
    "np_arr = df.values"
   ]
  },
  {
   "cell_type": "code",
   "execution_count": 8,
   "metadata": {},
   "outputs": [
    {
     "data": {
      "text/plain": [
       "(9000, 61)"
      ]
     },
     "execution_count": 8,
     "metadata": {},
     "output_type": "execute_result"
    }
   ],
   "source": [
    "np_arr.shape"
   ]
  },
  {
   "cell_type": "markdown",
   "metadata": {},
   "source": [
    "### Define input data and desired output, and then split training and test observations"
   ]
  },
  {
   "cell_type": "code",
   "execution_count": 9,
   "metadata": {
    "scrolled": true
   },
   "outputs": [
    {
     "name": "stdout",
     "output_type": "stream",
     "text": [
      "[[0. 1. 0. 0. 0. 0. 0. 0. 0.]\n",
      " [0. 0. 0. 0. 0. 0. 1. 0. 0.]\n",
      " [0. 0. 1. 0. 0. 0. 0. 0. 0.]\n",
      " [0. 0. 0. 1. 0. 0. 0. 0. 0.]\n",
      " [0. 0. 0. 0. 0. 0. 0. 1. 0.]]\n"
     ]
    }
   ],
   "source": [
    "X = df[columns]\n",
    "y = df['RESULT']\n",
    "\n",
    "X_train, X_test, y_train, y_test = train_test_split(X, y, test_size = .2, random_state=14)\n",
    "\n",
    "c = np.array(X_train).astype('float32')\n",
    "X_test = np.array(X_test).astype('float32')\n",
    "\n",
    "n_classes = 9\n",
    "#one hot encoding\n",
    "y_train = keras.utils.to_categorical(y_train, n_classes)\n",
    "y_test = keras.utils.to_categorical(y_test, n_classes)\n",
    "\n",
    "print (y_test[:5])"
   ]
  },
  {
   "cell_type": "code",
   "execution_count": 10,
   "metadata": {},
   "outputs": [],
   "source": [
    "X_train_np = X_train.values \n",
    "Y_train_np = y_train"
   ]
  },
  {
   "cell_type": "code",
   "execution_count": 12,
   "metadata": {},
   "outputs": [
    {
     "data": {
      "text/plain": [
       "7200"
      ]
     },
     "execution_count": 12,
     "metadata": {},
     "output_type": "execute_result"
    }
   ],
   "source": [
    "X = np.array(X_train).astype('float32')\n",
    "Y = np.array(y_train)\n",
    "len(X)"
   ]
  },
  {
   "cell_type": "code",
   "execution_count": 13,
   "metadata": {},
   "outputs": [
    {
     "name": "stdout",
     "output_type": "stream",
     "text": [
      "(1800, 60)\n",
      "(1800, 9)\n",
      "(7200, 60, 1)\n",
      "(1800, 60, 1)\n"
     ]
    },
    {
     "data": {
      "text/plain": [
       "(7200, 9)"
      ]
     },
     "execution_count": 13,
     "metadata": {},
     "output_type": "execute_result"
    }
   ],
   "source": [
    "print(X_test.shape)\n",
    "print(y_test.shape)\n",
    "X_train_np = np.expand_dims(X_train_np, axis=2)\n",
    "print(X_train_np.shape)\n",
    "X_test = np.expand_dims(X_test, axis=2)\n",
    "print(X_test.shape)\n",
    "#Y_train_np = np.expand_dims(Y_train_np, axis=2)\n",
    "Y_train_np.shape"
   ]
  },
  {
   "cell_type": "markdown",
   "metadata": {},
   "source": [
    "### Define Neural Network architecture"
   ]
  },
  {
   "cell_type": "code",
   "execution_count": 14,
   "metadata": {},
   "outputs": [],
   "source": [
    "def create_dense(layer_sizes):\n",
    "    model = Sequential()\n",
    "\n",
    "    model.add(Conv1D(32, 3, padding ='same', input_shape=(60,1)))\n",
    "    model.add(BatchNormalization())\n",
    "    model.add(Activation('relu'))\n",
    "    model.add(Conv1D(32, 3, padding ='same'))\n",
    "    model.add(BatchNormalization())\n",
    "    \n",
    "    model.add(Conv1D(64, 3, padding ='same'))\n",
    "    model.add(BatchNormalization())\n",
    "    model.add(Activation('relu'))\n",
    "    model.add(Conv1D(64, 3, padding ='same'))\n",
    "    model.add(BatchNormalization())\n",
    "    \n",
    "    model.add(Conv1D(64, 3, padding ='same'))\n",
    "    model.add(BatchNormalization())\n",
    "    model.add(Activation('relu'))\n",
    "    model.add(Conv1D(64, 3, padding ='same'))\n",
    "    model.add(BatchNormalization())\n",
    "  \n",
    "    model.add(GlobalAveragePooling1D())\n",
    "  \n",
    "    model.add(Dense(128, activation='elu'))\n",
    "    model.add(Dropout(0.2))\n",
    "    \n",
    "    model.add(Dense(128, activation = 'elu'))\n",
    "    model.add(Dropout(0.2))\n",
    "    \n",
    "    model.add(Dense(9, activation='softmax'))\n",
    "    \n",
    "    model.compile(loss='categorical_crossentropy',\n",
    "                  optimizer=SGD(lr=0.00125),\n",
    "                  metrics=['accuracy'])\n",
    "    return model\n",
    "\n",
    "def evaluate(model, batch_size=128, epochs=50):\n",
    "    model.summary()\n",
    "    history = model.fit(X_train_np, Y_train_np, batch_size=batch_size, epochs=epochs, verbose=1, validation_data=(X_test, y_test))\n",
    "    loss, accuracy  = model.evaluate(X_test, y_test, verbose=False)\n",
    "    print(f'Test loss: {loss:.3}')\n",
    "    print(f'Test accuracy: {accuracy:.3}')\n",
    "    plt.plot(history.history['acc'])\n",
    "    plt.plot(history.history['val_acc'])\n",
    "    plt.title('model accuracy')\n",
    "    plt.ylabel('accuracy')\n",
    "    plt.xlabel('epoch')\n",
    "    plt.legend(['training', 'validation'], loc='best')\n",
    "    plt.show()\n",
    "\n"
   ]
  },
  {
   "cell_type": "code",
   "execution_count": 15,
   "metadata": {},
   "outputs": [
    {
     "name": "stdout",
     "output_type": "stream",
     "text": [
      "_________________________________________________________________\n",
      "Layer (type)                 Output Shape              Param #   \n",
      "=================================================================\n",
      "conv1d_1 (Conv1D)            (None, 60, 32)            128       \n",
      "_________________________________________________________________\n",
      "batch_normalization_1 (Batch (None, 60, 32)            128       \n",
      "_________________________________________________________________\n",
      "activation_1 (Activation)    (None, 60, 32)            0         \n",
      "_________________________________________________________________\n",
      "conv1d_2 (Conv1D)            (None, 60, 32)            3104      \n",
      "_________________________________________________________________\n",
      "batch_normalization_2 (Batch (None, 60, 32)            128       \n",
      "_________________________________________________________________\n",
      "conv1d_3 (Conv1D)            (None, 60, 64)            6208      \n",
      "_________________________________________________________________\n",
      "batch_normalization_3 (Batch (None, 60, 64)            256       \n",
      "_________________________________________________________________\n",
      "activation_2 (Activation)    (None, 60, 64)            0         \n",
      "_________________________________________________________________\n",
      "conv1d_4 (Conv1D)            (None, 60, 64)            12352     \n",
      "_________________________________________________________________\n",
      "batch_normalization_4 (Batch (None, 60, 64)            256       \n",
      "_________________________________________________________________\n",
      "conv1d_5 (Conv1D)            (None, 60, 64)            12352     \n",
      "_________________________________________________________________\n",
      "batch_normalization_5 (Batch (None, 60, 64)            256       \n",
      "_________________________________________________________________\n",
      "activation_3 (Activation)    (None, 60, 64)            0         \n",
      "_________________________________________________________________\n",
      "conv1d_6 (Conv1D)            (None, 60, 64)            12352     \n",
      "_________________________________________________________________\n",
      "batch_normalization_6 (Batch (None, 60, 64)            256       \n",
      "_________________________________________________________________\n",
      "global_average_pooling1d_1 ( (None, 64)                0         \n",
      "_________________________________________________________________\n",
      "dense_1 (Dense)              (None, 128)               8320      \n",
      "_________________________________________________________________\n",
      "dropout_1 (Dropout)          (None, 128)               0         \n",
      "_________________________________________________________________\n",
      "dense_2 (Dense)              (None, 128)               16512     \n",
      "_________________________________________________________________\n",
      "dropout_2 (Dropout)          (None, 128)               0         \n",
      "_________________________________________________________________\n",
      "dense_3 (Dense)              (None, 9)                 1161      \n",
      "=================================================================\n",
      "Total params: 73,769\n",
      "Trainable params: 73,129\n",
      "Non-trainable params: 640\n",
      "_________________________________________________________________\n",
      "Train on 7200 samples, validate on 1800 samples\n",
      "Epoch 1/50\n",
      "7200/7200 [==============================] - 26s 4ms/step - loss: 2.0945 - acc: 0.2774 - val_loss: 1.9889 - val_acc: 0.2950\n",
      "Epoch 2/50\n",
      "7200/7200 [==============================] - 17s 2ms/step - loss: 1.9240 - acc: 0.4482 - val_loss: 1.8524 - val_acc: 0.4100\n",
      "Epoch 3/50\n",
      "7200/7200 [==============================] - 20s 3ms/step - loss: 1.8005 - acc: 0.5021 - val_loss: 1.7395 - val_acc: 0.4272\n",
      "Epoch 4/50\n",
      "7200/7200 [==============================] - 17s 2ms/step - loss: 1.6896 - acc: 0.5574 - val_loss: 1.6457 - val_acc: 0.4483\n",
      "Epoch 5/50\n",
      "7200/7200 [==============================] - 17s 2ms/step - loss: 1.5981 - acc: 0.6090 - val_loss: 1.5560 - val_acc: 0.6383\n",
      "Epoch 6/50\n",
      "7200/7200 [==============================] - 17s 2ms/step - loss: 1.5093 - acc: 0.6469 - val_loss: 1.4669 - val_acc: 0.7461\n",
      "Epoch 7/50\n",
      "7200/7200 [==============================] - 17s 2ms/step - loss: 1.4253 - acc: 0.6839 - val_loss: 1.3969 - val_acc: 0.7789\n",
      "Epoch 8/50\n",
      "7200/7200 [==============================] - 17s 2ms/step - loss: 1.3507 - acc: 0.7169 - val_loss: 1.3175 - val_acc: 0.7950\n",
      "Epoch 9/50\n",
      "7200/7200 [==============================] - 17s 2ms/step - loss: 1.2795 - acc: 0.7372 - val_loss: 1.2495 - val_acc: 0.8117\n",
      "Epoch 10/50\n",
      "7200/7200 [==============================] - 17s 2ms/step - loss: 1.2177 - acc: 0.7539 - val_loss: 1.1879 - val_acc: 0.8206\n",
      "Epoch 11/50\n",
      "7200/7200 [==============================] - 17s 2ms/step - loss: 1.1496 - acc: 0.7818 - val_loss: 1.1154 - val_acc: 0.8322\n",
      "Epoch 12/50\n",
      "7200/7200 [==============================] - 17s 2ms/step - loss: 1.0896 - acc: 0.8076 - val_loss: 1.0546 - val_acc: 0.8378\n",
      "Epoch 13/50\n",
      "7200/7200 [==============================] - 17s 2ms/step - loss: 1.0406 - acc: 0.8110 - val_loss: 0.9975 - val_acc: 0.8433\n",
      "Epoch 14/50\n",
      "7200/7200 [==============================] - 17s 2ms/step - loss: 0.9874 - acc: 0.8300 - val_loss: 0.9440 - val_acc: 0.8483\n",
      "Epoch 15/50\n",
      "7200/7200 [==============================] - 18s 2ms/step - loss: 0.9417 - acc: 0.8340 - val_loss: 0.8920 - val_acc: 0.8606\n",
      "Epoch 16/50\n",
      "7200/7200 [==============================] - 17s 2ms/step - loss: 0.8996 - acc: 0.8414 - val_loss: 0.8493 - val_acc: 0.8706\n",
      "Epoch 17/50\n",
      "7200/7200 [==============================] - 17s 2ms/step - loss: 0.8573 - acc: 0.8471 - val_loss: 0.8121 - val_acc: 0.8722\n",
      "Epoch 18/50\n",
      "7200/7200 [==============================] - 17s 2ms/step - loss: 0.8173 - acc: 0.8610 - val_loss: 0.7712 - val_acc: 0.8867\n",
      "Epoch 19/50\n",
      "7200/7200 [==============================] - 18s 2ms/step - loss: 0.7880 - acc: 0.8636 - val_loss: 0.7391 - val_acc: 0.8906\n",
      "Epoch 20/50\n",
      "7200/7200 [==============================] - 17s 2ms/step - loss: 0.7529 - acc: 0.8672 - val_loss: 0.7085 - val_acc: 0.8878\n",
      "Epoch 21/50\n",
      "7200/7200 [==============================] - 17s 2ms/step - loss: 0.7266 - acc: 0.8738 - val_loss: 0.6756 - val_acc: 0.8944\n",
      "Epoch 22/50\n",
      "7200/7200 [==============================] - 17s 2ms/step - loss: 0.6943 - acc: 0.8779 - val_loss: 0.6544 - val_acc: 0.8944\n",
      "Epoch 23/50\n",
      "7200/7200 [==============================] - 17s 2ms/step - loss: 0.6757 - acc: 0.8781 - val_loss: 0.6230 - val_acc: 0.9028\n",
      "Epoch 24/50\n",
      "7200/7200 [==============================] - 17s 2ms/step - loss: 0.6462 - acc: 0.8851 - val_loss: 0.6051 - val_acc: 0.8994\n",
      "Epoch 25/50\n",
      "7200/7200 [==============================] - 17s 2ms/step - loss: 0.6267 - acc: 0.8889 - val_loss: 0.5806 - val_acc: 0.9044\n",
      "Epoch 26/50\n",
      "7200/7200 [==============================] - 17s 2ms/step - loss: 0.6035 - acc: 0.8903 - val_loss: 0.5611 - val_acc: 0.9000\n",
      "Epoch 27/50\n",
      "7200/7200 [==============================] - 17s 2ms/step - loss: 0.5909 - acc: 0.8943 - val_loss: 0.5434 - val_acc: 0.9022\n",
      "Epoch 28/50\n",
      "7200/7200 [==============================] - 17s 2ms/step - loss: 0.5738 - acc: 0.8911 - val_loss: 0.5268 - val_acc: 0.9056\n",
      "Epoch 29/50\n",
      "7200/7200 [==============================] - 17s 2ms/step - loss: 0.5589 - acc: 0.8925 - val_loss: 0.5123 - val_acc: 0.9072\n",
      "Epoch 30/50\n",
      "7200/7200 [==============================] - 17s 2ms/step - loss: 0.5419 - acc: 0.8992 - val_loss: 0.4962 - val_acc: 0.9100\n",
      "Epoch 31/50\n",
      "7200/7200 [==============================] - 17s 2ms/step - loss: 0.5290 - acc: 0.8993 - val_loss: 0.4865 - val_acc: 0.9100\n",
      "Epoch 32/50\n",
      "7200/7200 [==============================] - 17s 2ms/step - loss: 0.5154 - acc: 0.8992 - val_loss: 0.4693 - val_acc: 0.9106\n",
      "Epoch 33/50\n",
      "7200/7200 [==============================] - 17s 2ms/step - loss: 0.4998 - acc: 0.9035 - val_loss: 0.4582 - val_acc: 0.9139\n",
      "Epoch 34/50\n",
      "7200/7200 [==============================] - 17s 2ms/step - loss: 0.4913 - acc: 0.9031 - val_loss: 0.4470 - val_acc: 0.9144\n",
      "Epoch 35/50\n",
      "7200/7200 [==============================] - 17s 2ms/step - loss: 0.4726 - acc: 0.9047 - val_loss: 0.4346 - val_acc: 0.9172\n",
      "Epoch 36/50\n",
      "7200/7200 [==============================] - 18s 2ms/step - loss: 0.4607 - acc: 0.9099 - val_loss: 0.4283 - val_acc: 0.9161\n",
      "Epoch 37/50\n",
      "7200/7200 [==============================] - 18s 3ms/step - loss: 0.4569 - acc: 0.9094 - val_loss: 0.4211 - val_acc: 0.9144\n",
      "Epoch 38/50\n"
     ]
    },
    {
     "name": "stdout",
     "output_type": "stream",
     "text": [
      "7200/7200 [==============================] - 17s 2ms/step - loss: 0.4484 - acc: 0.9087 - val_loss: 0.4077 - val_acc: 0.9183\n",
      "Epoch 39/50\n",
      "7200/7200 [==============================] - 18s 2ms/step - loss: 0.4360 - acc: 0.9114 - val_loss: 0.3989 - val_acc: 0.9233\n",
      "Epoch 40/50\n",
      "7200/7200 [==============================] - 17s 2ms/step - loss: 0.4275 - acc: 0.9165 - val_loss: 0.3949 - val_acc: 0.9211\n",
      "Epoch 41/50\n",
      "7200/7200 [==============================] - 18s 2ms/step - loss: 0.4171 - acc: 0.9190 - val_loss: 0.3787 - val_acc: 0.9278\n",
      "Epoch 42/50\n",
      "7200/7200 [==============================] - 19s 3ms/step - loss: 0.4081 - acc: 0.9185 - val_loss: 0.3737 - val_acc: 0.9222\n",
      "Epoch 43/50\n",
      "7200/7200 [==============================] - 18s 3ms/step - loss: 0.3993 - acc: 0.9157 - val_loss: 0.3628 - val_acc: 0.9250\n",
      "Epoch 44/50\n",
      "7200/7200 [==============================] - 17s 2ms/step - loss: 0.3918 - acc: 0.9201 - val_loss: 0.3588 - val_acc: 0.9250\n",
      "Epoch 45/50\n",
      "7200/7200 [==============================] - 17s 2ms/step - loss: 0.3826 - acc: 0.9246 - val_loss: 0.3461 - val_acc: 0.9344\n",
      "Epoch 46/50\n",
      "7200/7200 [==============================] - 18s 2ms/step - loss: 0.3790 - acc: 0.9225 - val_loss: 0.3409 - val_acc: 0.9283\n",
      "Epoch 47/50\n",
      "7200/7200 [==============================] - 17s 2ms/step - loss: 0.3672 - acc: 0.9263 - val_loss: 0.3345 - val_acc: 0.9272\n",
      "Epoch 48/50\n",
      "7200/7200 [==============================] - 20s 3ms/step - loss: 0.3630 - acc: 0.9282 - val_loss: 0.3277 - val_acc: 0.9289\n",
      "Epoch 49/50\n",
      "7200/7200 [==============================] - 19s 3ms/step - loss: 0.3544 - acc: 0.9268 - val_loss: 0.3181 - val_acc: 0.9356\n",
      "Epoch 50/50\n",
      "7200/7200 [==============================] - 17s 2ms/step - loss: 0.3484 - acc: 0.9283 - val_loss: 0.3106 - val_acc: 0.9367\n",
      "Test loss: 0.311\n",
      "Test accuracy: 0.937\n"
     ]
    },
    {
     "data": {
      "image/png": "[encoded data removed]",
      "text/plain": [
       "<Figure size 432x288 with 1 Axes>"
      ]
     },
     "metadata": {
      "needs_background": "light"
     },
     "output_type": "display_data"
    }
   ],
   "source": [
    "# for layers in range(1, 5):\n",
    "model = create_dense([32] * 5)\n",
    "evaluate(model)"
   ]
  },
  {
   "cell_type": "markdown",
   "metadata": {},
   "source": [
    "### Configure the model"
   ]
  },
  {
   "cell_type": "code",
   "execution_count": null,
   "metadata": {},
   "outputs": [],
   "source": [
    "# model.compile(loss='categorical_crossentropy', optimizer=SGD(lr=0.00125), metrics=['accuracy'])"
   ]
  },
  {
   "cell_type": "markdown",
   "metadata": {},
   "source": [
    "### Train the model"
   ]
  },
  {
   "cell_type": "code",
   "execution_count": null,
   "metadata": {},
   "outputs": [],
   "source": [
    "# model.fit(X_train, y_train, batch_size=32, epochs=100, verbose=1, validation_data=(X_test, y_test))\n",
    "def evaluate(model, batch_size=128, epochs=5):\n",
    "    model.summary()\n",
    "    model.compile(loss='categorical_crossentropy', optimizer=SGD(lr=0.00125), metrics=['accuracy'])\n",
    "    history = model.fit(X_train, y_train, batch_size=batch_size, epochs=epochs, verbose=1, validation_data=(X_test, y_test))\n",
    "\n",
    "    loss, accuracy  = model.evaluate(X_test, y_test, verbose=False)\n",
    "\n",
    "# plt.plot(history.history['acc'])\n",
    "# plt.plot(history.history['val_acc'])\n",
    "# plt.title('model accuracy')\n",
    "# plt.ylabel('accuracy')\n",
    "# plt.xlabel('epoch')\n",
    "# plt.legend(['training', 'validation'], loc='best')\n",
    "# plt.show()\n",
    "\n",
    "    print(f'Test loss: {loss:.3}')\n",
    "    print(f'Test accuracy: {accuracy:.3}')\n"
   ]
  },
  {
   "cell_type": "markdown",
   "metadata": {},
   "source": [
    "### Saving the model"
   ]
  },
  {
   "cell_type": "code",
   "execution_count": null,
   "metadata": {},
   "outputs": [],
   "source": [
    "for layers in range(1, 5):\n",
    "    model = create_dense([32] * layers)\n",
    "    evaluate(model)\n",
    "\n",
    "# model.save('model/model_9_positions.h5')"
   ]
  },
  {
   "cell_type": "code",
   "execution_count": null,
   "metadata": {},
   "outputs": [],
   "source": []
  }
 ],
 "metadata": {
  "kernelspec": {
   "display_name": "Python 3",
   "language": "python",
   "name": "python3"
  },
  "language_info": {
   "codemirror_mode": {
    "name": "ipython",
    "version": 3
   },
   "file_extension": ".py",
   "mimetype": "text/x-python",
   "name": "python",
   "nbconvert_exporter": "python",
   "pygments_lexer": "ipython3",
   "version": "3.6.8"
  }
 },
 "nbformat": 4,
 "nbformat_minor": 1
}
